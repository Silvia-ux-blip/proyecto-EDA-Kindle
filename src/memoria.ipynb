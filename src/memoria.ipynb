{
 "cells": [
  {
   "cell_type": "markdown",
   "metadata": {},
   "source": [
    "# proyecto-EDA-Kindle\n",
    "Eda sobre datos kindle\n",
    "# TITULO\n",
    "*\"Trazando el Laberinto de los Libros: Un Análisis Detallado de las Preferencias de Lectura en Kindle\"*\n",
    "# Hipótesis principales\n",
    "\n",
    "\"Identificar los autores más populares según su número de libros publicados y calificaciones.\"\n",
    "\n",
    "\"¿La mayoría de los registros pertenecen a novelas, no ficción, ciencia ficción, romance u otros géneros?\"\n",
    "\n",
    "\"Determinar la influencia de las etiquetas \"Elección destacada\" y \"Goodreads Choice\" en las ventas de libros.\"\n",
    "\n",
    "\"Titulos más leídos:cuales son los más leídos ¿Hay algunos titulos que se destacan claramente en términos de popularidad?\"\n",
    "\n",
    "\"¿Los libros mejor calificados tienden a venderse más?\"\n",
    "\n",
    "El Data se ha obtenido de https://www.kaggle.com/datasets/asaniczka/amazon-kindle-books-dataset-2023-130k-books/data\n",
    "\n",
    "# Conclusiones de las hipótesis\n",
    "Las conclusiones a las que he llegado después de responder a las hipótesis me han demostrado, que las primeras impresiones no siempre son las más acertadas. \n",
    "\n",
    "Los datos han hablado y después del análisis en el que, los autores más populares me hablan de guías de viaje y novela juvenil.\n",
    "Los géneros quitando las de misterio, thiller y suspense, que son más bien un grupo, no sacan una gran ventaja, a las de no ficción, en las que predominan, las ciencias.\n",
    "\n",
    "Mi mayor sorpresa reside en los títulos más leídos, la mayoría de ellos manuales y textos educativos, aunque puede ser que tenga que ver con el mes y el comienzo de las clases, no aparece ni una sola novela.\n",
    "\n",
    "Muy clara se establece la influencia que ejercen las propuestas de Goodreads Choice a los lectores, prácticamente más de la mitad se decantan por esa selección.\n",
    "\n",
    "Que los libros estén mejor calificados no consigue que se vendan más, según estos datos, es más influyente la recomendación de un algoritmo que las calificaciones y reseñas de los lectores.\n"
   ]
  }
 ],
 "metadata": {
  "kernelspec": {
   "display_name": "Python 3",
   "language": "python",
   "name": "python3"
  },
  "language_info": {
   "name": "python",
   "version": "3.11.5"
  }
 },
 "nbformat": 4,
 "nbformat_minor": 2
}
