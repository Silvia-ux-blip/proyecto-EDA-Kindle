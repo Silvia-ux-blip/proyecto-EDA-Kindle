{
 "cells": [
  {
   "cell_type": "markdown",
   "metadata": {},
   "source": [
    "# TITULO\n",
    " \n",
    "*\"Trazando el Laberinto de los Libros: Un Análisis Detallado de las Preferencias de Lectura en Kindle\"*"
   ]
  },
  {
   "cell_type": "markdown",
   "metadata": {},
   "source": [
    "## Tema \n",
    "\n",
    "\"Es un conjunto de datos,  de libros Kindle de Amazon de octubre de 2023, \n",
    "que contienen 133102 rows × 16 columns.\n",
    "Contiene detalles de los libros e información de ventas.\""
   ]
  },
  {
   "cell_type": "markdown",
   "metadata": {},
   "source": [
    "# 1.Introducción"
   ]
  },
  {
   "cell_type": "markdown",
   "metadata": {},
   "source": [
    "# Hipótesis principales\n",
    "\n",
    "\"Identificar los autores más populares según su número de libros publicados y calificaciones.\"\n",
    "\n",
    "\"¿La mayoría de los registros pertenecen a novelas, no ficción, ciencia ficción, romance u otros géneros?\"\n",
    "\n",
    "\"Determinar la influencia de las etiquetas \"Elección destacada\" y \"Goodreads Choice\" en las ventas de libros.\"\n",
    "\n",
    "\"Titulos más leídos:cuales son los más leídos ¿Hay algunos titulos que se destacan claramente en términos de popularidad?\"\n",
    "\n",
    "\"¿Los libros mejor calificados tienden a venderse más?\""
   ]
  },
  {
   "cell_type": "markdown",
   "metadata": {},
   "source": [
    "El Data se ha obtenido de https://www.kaggle.com/datasets/asaniczka/amazon-kindle-books-dataset-2023-130k-books/data"
   ]
  },
  {
   "cell_type": "code",
   "execution_count": 1,
   "metadata": {},
   "outputs": [],
   "source": [
    "import numpy as np\n",
    "import pandas as pd\n",
    "import seaborn as sns\n",
    "import matplotlib.pyplot as plt\n",
    "import plotly.express as px\n"
   ]
  },
  {
   "cell_type": "code",
   "execution_count": 2,
   "metadata": {},
   "outputs": [],
   "source": [
    "df = pd.read_csv('C:\\\\Users\\\\silvi\\\\Desktop\\\\BOOTCAMPS\\\\datos\\\\kindle_data-v2.csv')"
   ]
  },
  {
   "cell_type": "code",
   "execution_count": 3,
   "metadata": {},
   "outputs": [
    {
     "data": {
      "text/html": [
       "<div>\n",
       "<style scoped>\n",
       "    .dataframe tbody tr th:only-of-type {\n",
       "        vertical-align: middle;\n",
       "    }\n",
       "\n",
       "    .dataframe tbody tr th {\n",
       "        vertical-align: top;\n",
       "    }\n",
       "\n",
       "    .dataframe thead th {\n",
       "        text-align: right;\n",
       "    }\n",
       "</style>\n",
       "<table border=\"1\" class=\"dataframe\">\n",
       "  <thead>\n",
       "    <tr style=\"text-align: right;\">\n",
       "      <th></th>\n",
       "      <th>asin</th>\n",
       "      <th>title</th>\n",
       "      <th>author</th>\n",
       "      <th>soldBy</th>\n",
       "      <th>imgUrl</th>\n",
       "      <th>productURL</th>\n",
       "      <th>stars</th>\n",
       "      <th>reviews</th>\n",
       "      <th>price</th>\n",
       "      <th>isKindleUnlimited</th>\n",
       "      <th>category_id</th>\n",
       "      <th>isBestSeller</th>\n",
       "      <th>isEditorsPick</th>\n",
       "      <th>isGoodReadsChoice</th>\n",
       "      <th>publishedDate</th>\n",
       "      <th>category_name</th>\n",
       "    </tr>\n",
       "  </thead>\n",
       "  <tbody>\n",
       "    <tr>\n",
       "      <th>0</th>\n",
       "      <td>B00TZE87S4</td>\n",
       "      <td>Adult Children of Emotionally Immature Parents...</td>\n",
       "      <td>Lindsay C. Gibson</td>\n",
       "      <td>Amazon.com Services LLC</td>\n",
       "      <td>https://m.media-amazon.com/images/I/713KZTsaYp...</td>\n",
       "      <td>https://www.amazon.com/dp/B00TZE87S4</td>\n",
       "      <td>4.8</td>\n",
       "      <td>0</td>\n",
       "      <td>9.99</td>\n",
       "      <td>False</td>\n",
       "      <td>6</td>\n",
       "      <td>True</td>\n",
       "      <td>False</td>\n",
       "      <td>False</td>\n",
       "      <td>2015-06-01</td>\n",
       "      <td>Parenting &amp; Relationships</td>\n",
       "    </tr>\n",
       "    <tr>\n",
       "      <th>1</th>\n",
       "      <td>B08WCKY8MB</td>\n",
       "      <td>From Strength to Strength: Finding Success, Ha...</td>\n",
       "      <td>Arthur C. Brooks</td>\n",
       "      <td>Penguin Group (USA) LLC</td>\n",
       "      <td>https://m.media-amazon.com/images/I/A1LZcJFs9E...</td>\n",
       "      <td>https://www.amazon.com/dp/B08WCKY8MB</td>\n",
       "      <td>4.4</td>\n",
       "      <td>0</td>\n",
       "      <td>16.99</td>\n",
       "      <td>False</td>\n",
       "      <td>6</td>\n",
       "      <td>False</td>\n",
       "      <td>False</td>\n",
       "      <td>False</td>\n",
       "      <td>2022-02-15</td>\n",
       "      <td>Parenting &amp; Relationships</td>\n",
       "    </tr>\n",
       "    <tr>\n",
       "      <th>2</th>\n",
       "      <td>B09KPS84CJ</td>\n",
       "      <td>Good Inside: A Guide to Becoming the Parent Yo...</td>\n",
       "      <td>Becky Kennedy</td>\n",
       "      <td>HarperCollins Publishers</td>\n",
       "      <td>https://m.media-amazon.com/images/I/71RIWM0sv6...</td>\n",
       "      <td>https://www.amazon.com/dp/B09KPS84CJ</td>\n",
       "      <td>4.8</td>\n",
       "      <td>0</td>\n",
       "      <td>16.99</td>\n",
       "      <td>False</td>\n",
       "      <td>6</td>\n",
       "      <td>False</td>\n",
       "      <td>True</td>\n",
       "      <td>False</td>\n",
       "      <td>2022-09-13</td>\n",
       "      <td>Parenting &amp; Relationships</td>\n",
       "    </tr>\n",
       "    <tr>\n",
       "      <th>3</th>\n",
       "      <td>B07S7QPG6J</td>\n",
       "      <td>Everything I Know About Love: A Memoir</td>\n",
       "      <td>Dolly Alderton</td>\n",
       "      <td>HarperCollins Publishers</td>\n",
       "      <td>https://m.media-amazon.com/images/I/71QdQpTiKZ...</td>\n",
       "      <td>https://www.amazon.com/dp/B07S7QPG6J</td>\n",
       "      <td>4.2</td>\n",
       "      <td>0</td>\n",
       "      <td>9.95</td>\n",
       "      <td>True</td>\n",
       "      <td>6</td>\n",
       "      <td>False</td>\n",
       "      <td>True</td>\n",
       "      <td>False</td>\n",
       "      <td>2020-02-25</td>\n",
       "      <td>Parenting &amp; Relationships</td>\n",
       "    </tr>\n",
       "    <tr>\n",
       "      <th>4</th>\n",
       "      <td>B00N6PEQV0</td>\n",
       "      <td>The Seven Principles for Making Marriage Work:...</td>\n",
       "      <td>John Gottman</td>\n",
       "      <td>Random House LLC</td>\n",
       "      <td>https://m.media-amazon.com/images/I/813o4WOs+w...</td>\n",
       "      <td>https://www.amazon.com/dp/B00N6PEQV0</td>\n",
       "      <td>4.7</td>\n",
       "      <td>0</td>\n",
       "      <td>13.99</td>\n",
       "      <td>False</td>\n",
       "      <td>6</td>\n",
       "      <td>False</td>\n",
       "      <td>False</td>\n",
       "      <td>False</td>\n",
       "      <td>2015-05-05</td>\n",
       "      <td>Parenting &amp; Relationships</td>\n",
       "    </tr>\n",
       "  </tbody>\n",
       "</table>\n",
       "</div>"
      ],
      "text/plain": [
       "         asin                                              title  \\\n",
       "0  B00TZE87S4  Adult Children of Emotionally Immature Parents...   \n",
       "1  B08WCKY8MB  From Strength to Strength: Finding Success, Ha...   \n",
       "2  B09KPS84CJ  Good Inside: A Guide to Becoming the Parent Yo...   \n",
       "3  B07S7QPG6J             Everything I Know About Love: A Memoir   \n",
       "4  B00N6PEQV0  The Seven Principles for Making Marriage Work:...   \n",
       "\n",
       "              author                    soldBy  \\\n",
       "0  Lindsay C. Gibson   Amazon.com Services LLC   \n",
       "1   Arthur C. Brooks   Penguin Group (USA) LLC   \n",
       "2      Becky Kennedy  HarperCollins Publishers   \n",
       "3     Dolly Alderton  HarperCollins Publishers   \n",
       "4       John Gottman          Random House LLC   \n",
       "\n",
       "                                              imgUrl  \\\n",
       "0  https://m.media-amazon.com/images/I/713KZTsaYp...   \n",
       "1  https://m.media-amazon.com/images/I/A1LZcJFs9E...   \n",
       "2  https://m.media-amazon.com/images/I/71RIWM0sv6...   \n",
       "3  https://m.media-amazon.com/images/I/71QdQpTiKZ...   \n",
       "4  https://m.media-amazon.com/images/I/813o4WOs+w...   \n",
       "\n",
       "                             productURL  stars  reviews  price  \\\n",
       "0  https://www.amazon.com/dp/B00TZE87S4    4.8        0   9.99   \n",
       "1  https://www.amazon.com/dp/B08WCKY8MB    4.4        0  16.99   \n",
       "2  https://www.amazon.com/dp/B09KPS84CJ    4.8        0  16.99   \n",
       "3  https://www.amazon.com/dp/B07S7QPG6J    4.2        0   9.95   \n",
       "4  https://www.amazon.com/dp/B00N6PEQV0    4.7        0  13.99   \n",
       "\n",
       "   isKindleUnlimited  category_id  isBestSeller  isEditorsPick  \\\n",
       "0              False            6          True          False   \n",
       "1              False            6         False          False   \n",
       "2              False            6         False           True   \n",
       "3               True            6         False           True   \n",
       "4              False            6         False          False   \n",
       "\n",
       "   isGoodReadsChoice publishedDate              category_name  \n",
       "0              False    2015-06-01  Parenting & Relationships  \n",
       "1              False    2022-02-15  Parenting & Relationships  \n",
       "2              False    2022-09-13  Parenting & Relationships  \n",
       "3              False    2020-02-25  Parenting & Relationships  \n",
       "4              False    2015-05-05  Parenting & Relationships  "
      ]
     },
     "execution_count": 3,
     "metadata": {},
     "output_type": "execute_result"
    }
   ],
   "source": [
    "df.head()"
   ]
  },
  {
   "cell_type": "code",
   "execution_count": 4,
   "metadata": {},
   "outputs": [
    {
     "name": "stdout",
     "output_type": "stream",
     "text": [
      "<class 'pandas.core.frame.DataFrame'>\n",
      "RangeIndex: 133102 entries, 0 to 133101\n",
      "Data columns (total 16 columns):\n",
      " #   Column             Non-Null Count   Dtype  \n",
      "---  ------             --------------   -----  \n",
      " 0   asin               133102 non-null  object \n",
      " 1   title              133102 non-null  object \n",
      " 2   author             132677 non-null  object \n",
      " 3   soldBy             123869 non-null  object \n",
      " 4   imgUrl             133102 non-null  object \n",
      " 5   productURL         133102 non-null  object \n",
      " 6   stars              133102 non-null  float64\n",
      " 7   reviews            133102 non-null  int64  \n",
      " 8   price              133102 non-null  float64\n",
      " 9   isKindleUnlimited  133102 non-null  bool   \n",
      " 10  category_id        133102 non-null  int64  \n",
      " 11  isBestSeller       133102 non-null  bool   \n",
      " 12  isEditorsPick      133102 non-null  bool   \n",
      " 13  isGoodReadsChoice  133102 non-null  bool   \n",
      " 14  publishedDate      84086 non-null   object \n",
      " 15  category_name      133102 non-null  object \n",
      "dtypes: bool(4), float64(2), int64(2), object(8)\n",
      "memory usage: 12.7+ MB\n"
     ]
    }
   ],
   "source": [
    "df.info()"
   ]
  },
  {
   "cell_type": "code",
   "execution_count": 5,
   "metadata": {},
   "outputs": [
    {
     "data": {
      "text/plain": [
       "Index(['asin', 'title', 'author', 'soldBy', 'imgUrl', 'productURL', 'stars',\n",
       "       'reviews', 'price', 'isKindleUnlimited', 'category_id', 'isBestSeller',\n",
       "       'isEditorsPick', 'isGoodReadsChoice', 'publishedDate', 'category_name'],\n",
       "      dtype='object')"
      ]
     },
     "execution_count": 5,
     "metadata": {},
     "output_type": "execute_result"
    }
   ],
   "source": [
    "df.columns"
   ]
  },
  {
   "cell_type": "markdown",
   "metadata": {},
   "source": [
    "# 2.Limpieza y acondicionamiento de los datos"
   ]
  },
  {
   "cell_type": "markdown",
   "metadata": {},
   "source": [
    "Se traduce el nombre de las columnas para una mejor comprensión"
   ]
  },
  {
   "cell_type": "code",
   "execution_count": 6,
   "metadata": {},
   "outputs": [
    {
     "data": {
      "text/html": [
       "<div>\n",
       "<style scoped>\n",
       "    .dataframe tbody tr th:only-of-type {\n",
       "        vertical-align: middle;\n",
       "    }\n",
       "\n",
       "    .dataframe tbody tr th {\n",
       "        vertical-align: top;\n",
       "    }\n",
       "\n",
       "    .dataframe thead th {\n",
       "        text-align: right;\n",
       "    }\n",
       "</style>\n",
       "<table border=\"1\" class=\"dataframe\">\n",
       "  <thead>\n",
       "    <tr style=\"text-align: right;\">\n",
       "      <th></th>\n",
       "      <th>ID de producto</th>\n",
       "      <th>Titulo del libro</th>\n",
       "      <th>Autor(es) del libro</th>\n",
       "      <th>Vendedor(es) del libro</th>\n",
       "      <th>URL de la imagen</th>\n",
       "      <th>URL del libro</th>\n",
       "      <th>Calificación media</th>\n",
       "      <th>Número de reseñas</th>\n",
       "      <th>Precio del libro</th>\n",
       "      <th>Disponible</th>\n",
       "      <th>id de Categoria</th>\n",
       "      <th>Si es Betsellers</th>\n",
       "      <th>Elección destacada</th>\n",
       "      <th>Goodreads Choice</th>\n",
       "      <th>Fecha de publicación</th>\n",
       "      <th>Nombre de la Categoria</th>\n",
       "    </tr>\n",
       "  </thead>\n",
       "  <tbody>\n",
       "    <tr>\n",
       "      <th>0</th>\n",
       "      <td>B00TZE87S4</td>\n",
       "      <td>Adult Children of Emotionally Immature Parents...</td>\n",
       "      <td>Lindsay C. Gibson</td>\n",
       "      <td>Amazon.com Services LLC</td>\n",
       "      <td>https://m.media-amazon.com/images/I/713KZTsaYp...</td>\n",
       "      <td>https://www.amazon.com/dp/B00TZE87S4</td>\n",
       "      <td>4.8</td>\n",
       "      <td>0</td>\n",
       "      <td>9.99</td>\n",
       "      <td>False</td>\n",
       "      <td>6</td>\n",
       "      <td>True</td>\n",
       "      <td>False</td>\n",
       "      <td>False</td>\n",
       "      <td>2015-06-01</td>\n",
       "      <td>Parenting &amp; Relationships</td>\n",
       "    </tr>\n",
       "    <tr>\n",
       "      <th>1</th>\n",
       "      <td>B08WCKY8MB</td>\n",
       "      <td>From Strength to Strength: Finding Success, Ha...</td>\n",
       "      <td>Arthur C. Brooks</td>\n",
       "      <td>Penguin Group (USA) LLC</td>\n",
       "      <td>https://m.media-amazon.com/images/I/A1LZcJFs9E...</td>\n",
       "      <td>https://www.amazon.com/dp/B08WCKY8MB</td>\n",
       "      <td>4.4</td>\n",
       "      <td>0</td>\n",
       "      <td>16.99</td>\n",
       "      <td>False</td>\n",
       "      <td>6</td>\n",
       "      <td>False</td>\n",
       "      <td>False</td>\n",
       "      <td>False</td>\n",
       "      <td>2022-02-15</td>\n",
       "      <td>Parenting &amp; Relationships</td>\n",
       "    </tr>\n",
       "  </tbody>\n",
       "</table>\n",
       "</div>"
      ],
      "text/plain": [
       "  ID de producto                                   Titulo del libro  \\\n",
       "0     B00TZE87S4  Adult Children of Emotionally Immature Parents...   \n",
       "1     B08WCKY8MB  From Strength to Strength: Finding Success, Ha...   \n",
       "\n",
       "  Autor(es) del libro   Vendedor(es) del libro  \\\n",
       "0   Lindsay C. Gibson  Amazon.com Services LLC   \n",
       "1    Arthur C. Brooks  Penguin Group (USA) LLC   \n",
       "\n",
       "                                    URL de la imagen  \\\n",
       "0  https://m.media-amazon.com/images/I/713KZTsaYp...   \n",
       "1  https://m.media-amazon.com/images/I/A1LZcJFs9E...   \n",
       "\n",
       "                          URL del libro  Calificación media  \\\n",
       "0  https://www.amazon.com/dp/B00TZE87S4                 4.8   \n",
       "1  https://www.amazon.com/dp/B08WCKY8MB                 4.4   \n",
       "\n",
       "   Número de reseñas  Precio del libro  Disponible  id de Categoria  \\\n",
       "0                  0              9.99       False                6   \n",
       "1                  0             16.99       False                6   \n",
       "\n",
       "   Si es Betsellers  Elección destacada  Goodreads Choice  \\\n",
       "0              True               False             False   \n",
       "1             False               False             False   \n",
       "\n",
       "  Fecha de publicación     Nombre de la Categoria  \n",
       "0           2015-06-01  Parenting & Relationships  \n",
       "1           2022-02-15  Parenting & Relationships  "
      ]
     },
     "execution_count": 6,
     "metadata": {},
     "output_type": "execute_result"
    }
   ],
   "source": [
    "#Traducción del nombre de las columnas para una mejor comprensión\n",
    "df = pd.read_csv((r'C:\\Users\\silvi\\Desktop\\BOOTCAMPS\\datos\\kindle_data-v2.csv'),\n",
    "                 names = ['ID de producto', 'Titulo del libro', 'Autor(es) del libro', \n",
    "                          'Vendedor(es) del libro','URL de la imagen', 'URL del libro', 'Calificación media',\n",
    "                          'Número de reseñas', 'Precio del libro','Disponible', 'id de Categoria',\n",
    "                           'Si es Betsellers','Elección destacada', 'Goodreads Choice',\n",
    "                           'Fecha de publicación', 'Nombre de la Categoria'],\n",
    "                header = 0)\n",
    "df.head(2)"
   ]
  },
  {
   "cell_type": "markdown",
   "metadata": {},
   "source": [
    "Eliminación de las columnas que no sirven en este caso"
   ]
  },
  {
   "cell_type": "code",
   "execution_count": 7,
   "metadata": {},
   "outputs": [],
   "source": [
    "#Elimino las columnas que no me van a servir\n",
    "columnas_a_borrar = ['ID de producto','URL de la imagen', 'URL del libro']\n",
    "df = df.drop(columnas_a_borrar, axis=1)\n",
    "\n"
   ]
  },
  {
   "cell_type": "code",
   "execution_count": 8,
   "metadata": {},
   "outputs": [
    {
     "data": {
      "text/plain": [
       "Index(['Titulo del libro', 'Autor(es) del libro', 'Vendedor(es) del libro',\n",
       "       'Calificación media', 'Número de reseñas', 'Precio del libro',\n",
       "       'Disponible', 'id de Categoria', 'Si es Betsellers',\n",
       "       'Elección destacada', 'Goodreads Choice', 'Fecha de publicación',\n",
       "       'Nombre de la Categoria'],\n",
       "      dtype='object')"
      ]
     },
     "execution_count": 8,
     "metadata": {},
     "output_type": "execute_result"
    }
   ],
   "source": [
    "df.columns"
   ]
  },
  {
   "cell_type": "markdown",
   "metadata": {},
   "source": [
    "Verificación y eliminación  de registros duplicados"
   ]
  },
  {
   "cell_type": "code",
   "execution_count": 9,
   "metadata": {},
   "outputs": [
    {
     "data": {
      "text/plain": [
       "1"
      ]
     },
     "execution_count": 9,
     "metadata": {},
     "output_type": "execute_result"
    }
   ],
   "source": [
    "# Verificar si hay registros duplicados en el DataFrame.\n",
    "\n",
    "duplicados = df.duplicated()\n",
    "cantidad_duplicados = duplicados.sum()\n",
    "\n",
    "# La variable cantidad_duplicados contendrá el número de registros duplicados en el DataFrame.\n",
    "cantidad_duplicados"
   ]
  },
  {
   "cell_type": "code",
   "execution_count": 10,
   "metadata": {},
   "outputs": [],
   "source": [
    "# Eliminando el registro duplicado\n",
    "df = df.drop_duplicates()\n",
    "\n"
   ]
  },
  {
   "cell_type": "code",
   "execution_count": 11,
   "metadata": {},
   "outputs": [
    {
     "name": "stdout",
     "output_type": "stream",
     "text": [
      "<class 'pandas.core.frame.DataFrame'>\n",
      "Index: 133101 entries, 0 to 133101\n",
      "Data columns (total 13 columns):\n",
      " #   Column                  Non-Null Count   Dtype  \n",
      "---  ------                  --------------   -----  \n",
      " 0   Titulo del libro        133101 non-null  object \n",
      " 1   Autor(es) del libro     132676 non-null  object \n",
      " 2   Vendedor(es) del libro  123868 non-null  object \n",
      " 3   Calificación media      133101 non-null  float64\n",
      " 4   Número de reseñas       133101 non-null  int64  \n",
      " 5   Precio del libro        133101 non-null  float64\n",
      " 6   Disponible              133101 non-null  bool   \n",
      " 7   id de Categoria         133101 non-null  int64  \n",
      " 8   Si es Betsellers        133101 non-null  bool   \n",
      " 9   Elección destacada      133101 non-null  bool   \n",
      " 10  Goodreads Choice        133101 non-null  bool   \n",
      " 11  Fecha de publicación    84086 non-null   object \n",
      " 12  Nombre de la Categoria  133101 non-null  object \n",
      "dtypes: bool(4), float64(2), int64(2), object(5)\n",
      "memory usage: 10.7+ MB\n"
     ]
    }
   ],
   "source": [
    "df.info()"
   ]
  },
  {
   "cell_type": "code",
   "execution_count": 12,
   "metadata": {},
   "outputs": [
    {
     "data": {
      "text/html": [
       "<div>\n",
       "<style scoped>\n",
       "    .dataframe tbody tr th:only-of-type {\n",
       "        vertical-align: middle;\n",
       "    }\n",
       "\n",
       "    .dataframe tbody tr th {\n",
       "        vertical-align: top;\n",
       "    }\n",
       "\n",
       "    .dataframe thead th {\n",
       "        text-align: right;\n",
       "    }\n",
       "</style>\n",
       "<table border=\"1\" class=\"dataframe\">\n",
       "  <thead>\n",
       "    <tr style=\"text-align: right;\">\n",
       "      <th></th>\n",
       "      <th>Calificación media</th>\n",
       "      <th>Número de reseñas</th>\n",
       "      <th>Precio del libro</th>\n",
       "      <th>id de Categoria</th>\n",
       "    </tr>\n",
       "  </thead>\n",
       "  <tbody>\n",
       "    <tr>\n",
       "      <th>count</th>\n",
       "      <td>133101.000000</td>\n",
       "      <td>133101.000000</td>\n",
       "      <td>133101.000000</td>\n",
       "      <td>133101.000000</td>\n",
       "    </tr>\n",
       "    <tr>\n",
       "      <th>mean</th>\n",
       "      <td>4.404086</td>\n",
       "      <td>887.382446</td>\n",
       "      <td>15.133920</td>\n",
       "      <td>16.287083</td>\n",
       "    </tr>\n",
       "    <tr>\n",
       "      <th>std</th>\n",
       "      <td>0.745647</td>\n",
       "      <td>5104.897374</td>\n",
       "      <td>22.254941</td>\n",
       "      <td>8.416950</td>\n",
       "    </tr>\n",
       "    <tr>\n",
       "      <th>min</th>\n",
       "      <td>0.000000</td>\n",
       "      <td>0.000000</td>\n",
       "      <td>0.000000</td>\n",
       "      <td>1.000000</td>\n",
       "    </tr>\n",
       "    <tr>\n",
       "      <th>25%</th>\n",
       "      <td>4.400000</td>\n",
       "      <td>0.000000</td>\n",
       "      <td>4.990000</td>\n",
       "      <td>9.000000</td>\n",
       "    </tr>\n",
       "    <tr>\n",
       "      <th>50%</th>\n",
       "      <td>4.500000</td>\n",
       "      <td>4.000000</td>\n",
       "      <td>9.990000</td>\n",
       "      <td>16.000000</td>\n",
       "    </tr>\n",
       "    <tr>\n",
       "      <th>75%</th>\n",
       "      <td>4.700000</td>\n",
       "      <td>365.000000</td>\n",
       "      <td>14.990000</td>\n",
       "      <td>23.000000</td>\n",
       "    </tr>\n",
       "    <tr>\n",
       "      <th>max</th>\n",
       "      <td>5.000000</td>\n",
       "      <td>618227.000000</td>\n",
       "      <td>682.000000</td>\n",
       "      <td>31.000000</td>\n",
       "    </tr>\n",
       "  </tbody>\n",
       "</table>\n",
       "</div>"
      ],
      "text/plain": [
       "       Calificación media  Número de reseñas  Precio del libro  \\\n",
       "count       133101.000000      133101.000000     133101.000000   \n",
       "mean             4.404086         887.382446         15.133920   \n",
       "std              0.745647        5104.897374         22.254941   \n",
       "min              0.000000           0.000000          0.000000   \n",
       "25%              4.400000           0.000000          4.990000   \n",
       "50%              4.500000           4.000000          9.990000   \n",
       "75%              4.700000         365.000000         14.990000   \n",
       "max              5.000000      618227.000000        682.000000   \n",
       "\n",
       "       id de Categoria  \n",
       "count    133101.000000  \n",
       "mean         16.287083  \n",
       "std           8.416950  \n",
       "min           1.000000  \n",
       "25%           9.000000  \n",
       "50%          16.000000  \n",
       "75%          23.000000  \n",
       "max          31.000000  "
      ]
     },
     "execution_count": 12,
     "metadata": {},
     "output_type": "execute_result"
    }
   ],
   "source": [
    "df.describe()"
   ]
  },
  {
   "cell_type": "markdown",
   "metadata": {},
   "source": [
    "# 3.Outliers en las variables numéricas"
   ]
  },
  {
   "cell_type": "code",
   "execution_count": 13,
   "metadata": {},
   "outputs": [
    {
     "data": {
      "image/png": "[encoded data removed]",
      "text/plain": [
       "<Figure size 800x3000 with 4 Axes>"
      ]
     },
     "metadata": {},
     "output_type": "display_data"
    }
   ],
   "source": [
    "cols_num = ['Calificación media', 'Número de reseñas', 'Precio del libro','id de Categoria']\n",
    "\n",
    "fig, ax = plt.subplots(nrows=4, ncols=1, figsize=(8,30))\n",
    "fig.subplots_adjust(hspace=0.5)\n",
    "\n",
    "for i, col in enumerate(cols_num):\n",
    "    sns.boxplot(x=col, data=df, ax=ax[i])\n",
    "    ax[i].set_title(col)"
   ]
  },
  {
   "cell_type": "markdown",
   "metadata": {},
   "source": [
    "# *Observaciones:*\n",
    "\n",
    "Calificación media contiene muchos 0, que quiere decir que no los han calificado, pero he comprobado, que no altera la media el que los suprima.\n",
    "\n",
    "Número de reseñas, claramente hay un outlier que destaca en el nº de reseñas, 618227 he comprobado que es un libro muy popular,  se trata de *La chica salvaje (título originalː Where the Crawdads Sing)* del que además hay una película en Netflix, esa puede ser una de las causas, otra sería que,  las reseñas estan recogidas este mes pero pueden ser de lecturas de meses anteriores, en los que  seguramente,  el precio de ebook era bajo o puede que hasta gratis y por eso tiene un número tan alto, en cualquier caso no altera los resultados.\n",
    "\n",
    "El precio, tiene muchos outliers, he revisado los titulos que tienen un precio más alto y decido quitar los que tienen un precio superior a 450€ ya que,  ni siquiera están disponibles para su adquisición.\n",
    "\n",
    "Id de categoria contiene 31 categorias."
   ]
  },
  {
   "cell_type": "markdown",
   "metadata": {},
   "source": [
    "Calculo de los percentiles"
   ]
  },
  {
   "cell_type": "code",
   "execution_count": 14,
   "metadata": {},
   "outputs": [
    {
     "name": "stdout",
     "output_type": "stream",
     "text": [
      "Percentiles para 'Calificación media':\n",
      "Q0 (Min): 0.0\n",
      "Q25: 4.4\n",
      "Q50 (Mediana): 4.5\n",
      "Q75: 4.7\n",
      "Q100 (Max): 5.0\n",
      "Media: 4.4\n",
      "\n",
      "Percentiles para 'Número de reseñas':\n",
      "Q0 (Min): 0.0\n",
      "Q25: 0.0\n",
      "Q50 (Mediana): 4.0\n",
      "Q75: 365.0\n",
      "Q100 (Max): 618227.0\n",
      "Media: 887.38\n",
      "\n",
      "Percentiles para 'Precio del libro':\n",
      "Q0 (Min): 0.0\n",
      "Q25: 4.99\n",
      "Q50 (Mediana): 9.99\n",
      "Q75: 14.99\n",
      "Q100 (Max): 682.0\n",
      "Media: 15.13\n",
      "\n",
      "Percentiles para 'id de Categoria':\n",
      "Q0 (Min): 1.0\n",
      "Q25: 9.0\n",
      "Q50 (Mediana): 16.0\n",
      "Q75: 23.0\n",
      "Q100 (Max): 31.0\n",
      "Media: 16.29\n",
      "\n"
     ]
    }
   ],
   "source": [
    "# Lista de columnas para  calcular los percentiles\n",
    "columnas = ['Calificación media', 'Número de reseñas', 'Precio del libro', 'id de Categoria' ]  \n",
    "\n",
    "# Diccionario para almacenar los resultados de los percentiles\n",
    "resultados_percentiles = {}\n",
    "\n",
    "# Calcular los percentiles para cada columna\n",
    "for columna in columnas:\n",
    "    percentiles = {\n",
    "        'Q0': np.percentile(df[columna], 0),\n",
    "        'Q25': np.percentile(df[columna], 25),\n",
    "        'Q50': np.percentile(df[columna], 50),\n",
    "        'Q75': np.percentile(df[columna], 75),\n",
    "        'Q100': np.percentile(df[columna], 100)\n",
    "    }\n",
    "    \n",
    "    resultados_percentiles[columna] = percentiles\n",
    "\n",
    "# Imprimir los resultados\n",
    "for columna, percentiles in resultados_percentiles.items():\n",
    "    print(f\"Percentiles para '{columna}':\")\n",
    "    print(\"Q0 (Min):\", percentiles['Q0'])\n",
    "    print(\"Q25:\", percentiles['Q25'])\n",
    "    print(\"Q50 (Mediana):\", percentiles['Q50'])\n",
    "    print(\"Q75:\", percentiles['Q75'])\n",
    "    print(\"Q100 (Max):\", percentiles['Q100'])\n",
    "    print(\"Media:\", round(df[columna].mean(), 2))\n",
    "    print()\n"
   ]
  },
  {
   "cell_type": "markdown",
   "metadata": {},
   "source": [
    "Se comprueba que el outlier de Calificación media que se corresponde con el 0 no altera los resultados"
   ]
  },
  {
   "cell_type": "code",
   "execution_count": 15,
   "metadata": {},
   "outputs": [
    {
     "name": "stdout",
     "output_type": "stream",
     "text": [
      "Moda con los ceros: ModeResult(mode=4.6, count=24163)\n",
      "Moda sin los ceros: ModeResult(mode=4.6, count=24163)\n"
     ]
    }
   ],
   "source": [
    "from scipy import stats\n",
    "\n",
    "# Calcular la moda con los ceros\n",
    "modo_con_ceros = stats.mode(df['Calificación media'])\n",
    "\n",
    "# Imprimir la moda\n",
    "print(\"Moda con los ceros:\", modo_con_ceros)\n",
    "\n",
    "# Calcular la moda sin los ceros\n",
    "modo_sin_ceros = stats.mode(df['Calificación media'][df['Calificación media'] != 0])\n",
    "\n",
    "# Imprimir la moda sin los ceros\n",
    "print(\"Moda sin los ceros:\", modo_sin_ceros)"
   ]
  },
  {
   "cell_type": "code",
   "execution_count": 16,
   "metadata": {},
   "outputs": [
    {
     "data": {
      "text/plain": [
       "<Axes: xlabel='Calificación media'>"
      ]
     },
     "execution_count": 16,
     "metadata": {},
     "output_type": "execute_result"
    },
    {
     "data": {
      "image/png": "[encoded data removed]",
      "text/plain": [
       "<Figure size 2000x500 with 1 Axes>"
      ]
     },
     "metadata": {},
     "output_type": "display_data"
    }
   ],
   "source": [
    "# Fijar el límite inferior del eje y para excluir ceros\n",
    "plt.figure(figsize=(20, 5))\n",
    "sns.boxplot(x=df[df['Calificación media'] != 0]['Calificación media'], color=\"blue\")\n"
   ]
  },
  {
   "cell_type": "markdown",
   "metadata": {},
   "source": [
    "Se eliminan las filas en las que aparece un precio excesivo "
   ]
  },
  {
   "cell_type": "code",
   "execution_count": 17,
   "metadata": {},
   "outputs": [
    {
     "name": "stdout",
     "output_type": "stream",
     "text": [
      "Tamaño del set antes de eliminar Precio del libro: (133101, 13)\n",
      "Tamaño del set después de eliminar Precio del libro: (133091, 13)\n"
     ]
    }
   ],
   "source": [
    "# Eliminar filas de precio > 450\n",
    "print(f'Tamaño del set antes de eliminar Precio del libro: {df.shape}')\n",
    "df['Precio del libro'] = df['Precio del libro'].astype(float)\n",
    "df = df[df['Precio del libro'] <= 450]\n",
    "print(f'Tamaño del set después de eliminar Precio del libro: {df.shape}')"
   ]
  },
  {
   "cell_type": "markdown",
   "metadata": {},
   "source": [
    "Realizo un heatmap de las variables numéricas"
   ]
  },
  {
   "cell_type": "code",
   "execution_count": 18,
   "metadata": {},
   "outputs": [
    {
     "data": {
      "image/png": "[encoded data removed]",
      "text/plain": [
       "<Figure size 800x800 with 2 Axes>"
      ]
     },
     "metadata": {},
     "output_type": "display_data"
    }
   ],
   "source": [
    "# Selecciona solo las columnas numéricas del DataFrame\n",
    "df_numeric = df.select_dtypes(include=['float64', 'int64'])\n",
    "\n",
    "plt.figure(figsize=(8,8))\n",
    "sns.heatmap(df_numeric.corr(),\n",
    "            vmin=-1,\n",
    "            vmax=1,\n",
    "            cmap=sns.diverging_palette(145, 280, s=85, l=25, n=7),\n",
    "            square=True,\n",
    "            linewidths=.1,\n",
    "            annot=True);"
   ]
  },
  {
   "cell_type": "markdown",
   "metadata": {},
   "source": [
    "El valor de correlación entre \"Precio del libro\" y \"Calificación media\"con el Id de categoría  es -0.097 y 0.039 respectivamente lo que sugiere que existe una correlación muy débil tanto negativa como positivamente. \n",
    "\n",
    "La correlación negativa (-0.097) entre \"Precio del libro\" e \"Id de categoría\" podría sugerir que, en promedio, los libros con precios más bajos no tienen mucho que ver con la categoría. Sin embargo, la correlación es muy débil, por lo que esta relación es poco significativa.\n",
    "\n",
    "La correlación positiva (0.039) entre \"Calificación media\" e \"Id de categoría\" sugiere que, en promedio, los libros con calificaciones medias ligeramente más altas tienden a ser de una categoría especifica. Nuevamente, esta correlación es muy débil y no implica una relación fuerte. \n",
    "\n",
    "En resumen, los valores de correlación débil como estos indican que no hay una relación sólida o lineal entre las variables  y cualquier relación que exista es mínima."
   ]
  },
  {
   "cell_type": "markdown",
   "metadata": {},
   "source": [
    "Se muestran las categorías existentes "
   ]
  },
  {
   "cell_type": "code",
   "execution_count": 19,
   "metadata": {},
   "outputs": [
    {
     "data": {
      "application/vnd.plotly.v1+json": {
       "config": {
        "plotlyServerURL": "https://plot.ly"
       },
       "data": [
        {
         "alignmentgroup": "True",
         "hovertemplate": "Categoría=%{x}<br>Cantidad=%{text}<extra></extra>",
         "legendgroup": "",
         "marker": {
          "color": "#636efa",
          "pattern": {
           "shape": ""
          }
         },
         "name": "",
         "offsetgroup": "",
         "orientation": "v",
         "showlegend": false,
         "text": [
          6272,
          6162,
          5954,
          5901,
          5747,
          5738,
          5724,
          5526,
          5517,
          5504,
          5502,
          5405,
          5333,
          5020,
          4986,
          4970,
          4916,
          4207,
          4152,
          4095,
          3995,
          3493,
          3388,
          3206,
          2581,
          2577,
          2214,
          2045,
          1584,
          899,
          478
         ],
         "textposition": "auto",
         "type": "bar",
         "x": [
          "Mystery, Thriller & Suspense",
          "Engineering & Transportation",
          "Science & Math",
          "Parenting & Relationships",
          "Children's eBooks",
          "Teen & Young Adult",
          "Foreign Language",
          "Travel",
          "LGBTQ+ eBooks",
          "Computers & Technology",
          "Crafts, Hobbies & Home",
          "Biographies & Memoirs",
          "Cookbooks, Food & Wine",
          "Law",
          "Education & Teaching",
          "Religion & Spirituality",
          "Arts & Photo graphy",
          "Politics & Social Sciences",
          "Literature & Fiction",
          "Humor & Entertainment",
          "Science Fiction & Fantasy",
          "Self-Help",
          "Reference",
          "Sports & Outdoors",
          "Medical",
          "Business & Money",
          "Romance",
          "History",
          "Health, Fitness & Dieting",
          "Nonfiction",
          "Comics"
         ],
         "xaxis": "x",
         "y": [
          6272,
          6162,
          5954,
          5901,
          5747,
          5738,
          5724,
          5526,
          5517,
          5504,
          5502,
          5405,
          5333,
          5020,
          4986,
          4970,
          4916,
          4207,
          4152,
          4095,
          3995,
          3493,
          3388,
          3206,
          2581,
          2577,
          2214,
          2045,
          1584,
          899,
          478
         ],
         "yaxis": "y"
        }
       ],
       "layout": {
        "barmode": "relative",
        "legend": {
         "tracegroupgap": 0
        },
        "margin": {
         "t": 60
        },
        "showlegend": false,
        "template": {
         "data": {
          "bar": [
           {
            "error_x": {
             "color": "#2a3f5f"
            },
            "error_y": {
             "color": "#2a3f5f"
            },
            "marker": {
             "line": {
              "color": "#E5ECF6",
              "width": 0.5
             },
             "pattern": {
              "fillmode": "overlay",
              "size": 10,
              "solidity": 0.2
             }
            },
            "type": "bar"
           }
          ],
          "barpolar": [
           {
            "marker": {
             "line": {
              "color": "#E5ECF6",
              "width": 0.5
             },
             "pattern": {
              "fillmode": "overlay",
              "size": 10,
              "solidity": 0.2
             }
            },
            "type": "barpolar"
           }
          ],
          "carpet": [
           {
            "aaxis": {
             "endlinecolor": "#2a3f5f",
             "gridcolor": "white",
             "linecolor": "white",
             "minorgridcolor": "white",
             "startlinecolor": "#2a3f5f"
            },
            "baxis": {
             "endlinecolor": "#2a3f5f",
             "gridcolor": "white",
             "linecolor": "white",
             "minorgridcolor": "white",
             "startlinecolor": "#2a3f5f"
            },
            "type": "carpet"
           }
          ],
          "choropleth": [
           {
            "colorbar": {
             "outlinewidth": 0,
             "ticks": ""
            },
            "type": "choropleth"
           }
          ],
          "contour": [
           {
            "colorbar": {
             "outlinewidth": 0,
             "ticks": ""
            },
            "colorscale": [
             [
              0,
              "#0d0887"
             ],
             [
              0.1111111111111111,
              "#46039f"
             ],
             [
              0.2222222222222222,
              "#7201a8"
             ],
             [
              0.3333333333333333,
              "#9c179e"
             ],
             [
              0.4444444444444444,
              "#bd3786"
             ],
             [
              0.5555555555555556,
              "#d8576b"
             ],
             [
              0.6666666666666666,
              "#ed7953"
             ],
             [
              0.7777777777777778,
              "#fb9f3a"
             ],
             [
              0.8888888888888888,
              "#fdca26"
             ],
             [
              1,
              "#f0f921"
             ]
            ],
            "type": "contour"
           }
          ],
          "contourcarpet": [
           {
            "colorbar": {
             "outlinewidth": 0,
             "ticks": ""
            },
            "type": "contourcarpet"
           }
          ],
          "heatmap": [
           {
            "colorbar": {
             "outlinewidth": 0,
             "ticks": ""
            },
            "colorscale": [
             [
              0,
              "#0d0887"
             ],
             [
              0.1111111111111111,
              "#46039f"
             ],
             [
              0.2222222222222222,
              "#7201a8"
             ],
             [
              0.3333333333333333,
              "#9c179e"
             ],
             [
              0.4444444444444444,
              "#bd3786"
             ],
             [
              0.5555555555555556,
              "#d8576b"
             ],
             [
              0.6666666666666666,
              "#ed7953"
             ],
             [
              0.7777777777777778,
              "#fb9f3a"
             ],
             [
              0.8888888888888888,
              "#fdca26"
             ],
             [
              1,
              "#f0f921"
             ]
            ],
            "type": "heatmap"
           }
          ],
          "heatmapgl": [
           {
            "colorbar": {
             "outlinewidth": 0,
             "ticks": ""
            },
            "colorscale": [
             [
              0,
              "#0d0887"
             ],
             [
              0.1111111111111111,
              "#46039f"
             ],
             [
              0.2222222222222222,
              "#7201a8"
             ],
             [
              0.3333333333333333,
              "#9c179e"
             ],
             [
              0.4444444444444444,
              "#bd3786"
             ],
             [
              0.5555555555555556,
              "#d8576b"
             ],
             [
              0.6666666666666666,
              "#ed7953"
             ],
             [
              0.7777777777777778,
              "#fb9f3a"
             ],
             [
              0.8888888888888888,
              "#fdca26"
             ],
             [
              1,
              "#f0f921"
             ]
            ],
            "type": "heatmapgl"
           }
          ],
          "histogram": [
           {
            "marker": {
             "pattern": {
              "fillmode": "overlay",
              "size": 10,
              "solidity": 0.2
             }
            },
            "type": "histogram"
           }
          ],
          "histogram2d": [
           {
            "colorbar": {
             "outlinewidth": 0,
             "ticks": ""
            },
            "colorscale": [
             [
              0,
              "#0d0887"
             ],
             [
              0.1111111111111111,
              "#46039f"
             ],
             [
              0.2222222222222222,
              "#7201a8"
             ],
             [
              0.3333333333333333,
              "#9c179e"
             ],
             [
              0.4444444444444444,
              "#bd3786"
             ],
             [
              0.5555555555555556,
              "#d8576b"
             ],
             [
              0.6666666666666666,
              "#ed7953"
             ],
             [
              0.7777777777777778,
              "#fb9f3a"
             ],
             [
              0.8888888888888888,
              "#fdca26"
             ],
             [
              1,
              "#f0f921"
             ]
            ],
            "type": "histogram2d"
           }
          ],
          "histogram2dcontour": [
           {
            "colorbar": {
             "outlinewidth": 0,
             "ticks": ""
            },
            "colorscale": [
             [
              0,
              "#0d0887"
             ],
             [
              0.1111111111111111,
              "#46039f"
             ],
             [
              0.2222222222222222,
              "#7201a8"
             ],
             [
              0.3333333333333333,
              "#9c179e"
             ],
             [
              0.4444444444444444,
              "#bd3786"
             ],
             [
              0.5555555555555556,
              "#d8576b"
             ],
             [
              0.6666666666666666,
              "#ed7953"
             ],
             [
              0.7777777777777778,
              "#fb9f3a"
             ],
             [
              0.8888888888888888,
              "#fdca26"
             ],
             [
              1,
              "#f0f921"
             ]
            ],
            "type": "histogram2dcontour"
           }
          ],
          "mesh3d": [
           {
            "colorbar": {
             "outlinewidth": 0,
             "ticks": ""
            },
            "type": "mesh3d"
           }
          ],
          "parcoords": [
           {
            "line": {
             "colorbar": {
              "outlinewidth": 0,
              "ticks": ""
             }
            },
            "type": "parcoords"
           }
          ],
          "pie": [
           {
            "automargin": true,
            "type": "pie"
           }
          ],
          "scatter": [
           {
            "fillpattern": {
             "fillmode": "overlay",
             "size": 10,
             "solidity": 0.2
            },
            "type": "scatter"
           }
          ],
          "scatter3d": [
           {
            "line": {
             "colorbar": {
              "outlinewidth": 0,
              "ticks": ""
             }
            },
            "marker": {
             "colorbar": {
              "outlinewidth": 0,
              "ticks": ""
             }
            },
            "type": "scatter3d"
           }
          ],
          "scattercarpet": [
           {
            "marker": {
             "colorbar": {
              "outlinewidth": 0,
              "ticks": ""
             }
            },
            "type": "scattercarpet"
           }
          ],
          "scattergeo": [
           {
            "marker": {
             "colorbar": {
              "outlinewidth": 0,
              "ticks": ""
             }
            },
            "type": "scattergeo"
           }
          ],
          "scattergl": [
           {
            "marker": {
             "colorbar": {
              "outlinewidth": 0,
              "ticks": ""
             }
            },
            "type": "scattergl"
           }
          ],
          "scattermapbox": [
           {
            "marker": {
             "colorbar": {
              "outlinewidth": 0,
              "ticks": ""
             }
            },
            "type": "scattermapbox"
           }
          ],
          "scatterpolar": [
           {
            "marker": {
             "colorbar": {
              "outlinewidth": 0,
              "ticks": ""
             }
            },
            "type": "scatterpolar"
           }
          ],
          "scatterpolargl": [
           {
            "marker": {
             "colorbar": {
              "outlinewidth": 0,
              "ticks": ""
             }
            },
            "type": "scatterpolargl"
           }
          ],
          "scatterternary": [
           {
            "marker": {
             "colorbar": {
              "outlinewidth": 0,
              "ticks": ""
             }
            },
            "type": "scatterternary"
           }
          ],
          "surface": [
           {
            "colorbar": {
             "outlinewidth": 0,
             "ticks": ""
            },
            "colorscale": [
             [
              0,
              "#0d0887"
             ],
             [
              0.1111111111111111,
              "#46039f"
             ],
             [
              0.2222222222222222,
              "#7201a8"
             ],
             [
              0.3333333333333333,
              "#9c179e"
             ],
             [
              0.4444444444444444,
              "#bd3786"
             ],
             [
              0.5555555555555556,
              "#d8576b"
             ],
             [
              0.6666666666666666,
              "#ed7953"
             ],
             [
              0.7777777777777778,
              "#fb9f3a"
             ],
             [
              0.8888888888888888,
              "#fdca26"
             ],
             [
              1,
              "#f0f921"
             ]
            ],
            "type": "surface"
           }
          ],
          "table": [
           {
            "cells": {
             "fill": {
              "color": "#EBF0F8"
             },
             "line": {
              "color": "white"
             }
            },
            "header": {
             "fill": {
              "color": "#C8D4E3"
             },
             "line": {
              "color": "white"
             }
            },
            "type": "table"
           }
          ]
         },
         "layout": {
          "annotationdefaults": {
           "arrowcolor": "#2a3f5f",
           "arrowhead": 0,
           "arrowwidth": 1
          },
          "autotypenumbers": "strict",
          "coloraxis": {
           "colorbar": {
            "outlinewidth": 0,
            "ticks": ""
           }
          },
          "colorscale": {
           "diverging": [
            [
             0,
             "#8e0152"
            ],
            [
             0.1,
             "#c51b7d"
            ],
            [
             0.2,
             "#de77ae"
            ],
            [
             0.3,
             "#f1b6da"
            ],
            [
             0.4,
             "#fde0ef"
            ],
            [
             0.5,
             "#f7f7f7"
            ],
            [
             0.6,
             "#e6f5d0"
            ],
            [
             0.7,
             "#b8e186"
            ],
            [
             0.8,
             "#7fbc41"
            ],
            [
             0.9,
             "#4d9221"
            ],
            [
             1,
             "#276419"
            ]
           ],
           "sequential": [
            [
             0,
             "#0d0887"
            ],
            [
             0.1111111111111111,
             "#46039f"
            ],
            [
             0.2222222222222222,
             "#7201a8"
            ],
            [
             0.3333333333333333,
             "#9c179e"
            ],
            [
             0.4444444444444444,
             "#bd3786"
            ],
            [
             0.5555555555555556,
             "#d8576b"
            ],
            [
             0.6666666666666666,
             "#ed7953"
            ],
            [
             0.7777777777777778,
             "#fb9f3a"
            ],
            [
             0.8888888888888888,
             "#fdca26"
            ],
            [
             1,
             "#f0f921"
            ]
           ],
           "sequentialminus": [
            [
             0,
             "#0d0887"
            ],
            [
             0.1111111111111111,
             "#46039f"
            ],
            [
             0.2222222222222222,
             "#7201a8"
            ],
            [
             0.3333333333333333,
             "#9c179e"
            ],
            [
             0.4444444444444444,
             "#bd3786"
            ],
            [
             0.5555555555555556,
             "#d8576b"
            ],
            [
             0.6666666666666666,
             "#ed7953"
            ],
            [
             0.7777777777777778,
             "#fb9f3a"
            ],
            [
             0.8888888888888888,
             "#fdca26"
            ],
            [
             1,
             "#f0f921"
            ]
           ]
          },
          "colorway": [
           "#636efa",
           "#EF553B",
           "#00cc96",
           "#ab63fa",
           "#FFA15A",
           "#19d3f3",
           "#FF6692",
           "#B6E880",
           "#FF97FF",
           "#FECB52"
          ],
          "font": {
           "color": "#2a3f5f"
          },
          "geo": {
           "bgcolor": "white",
           "lakecolor": "white",
           "landcolor": "#E5ECF6",
           "showlakes": true,
           "showland": true,
           "subunitcolor": "white"
          },
          "hoverlabel": {
           "align": "left"
          },
          "hovermode": "closest",
          "mapbox": {
           "style": "light"
          },
          "paper_bgcolor": "white",
          "plot_bgcolor": "#E5ECF6",
          "polar": {
           "angularaxis": {
            "gridcolor": "white",
            "linecolor": "white",
            "ticks": ""
           },
           "bgcolor": "#E5ECF6",
           "radialaxis": {
            "gridcolor": "white",
            "linecolor": "white",
            "ticks": ""
           }
          },
          "scene": {
           "xaxis": {
            "backgroundcolor": "#E5ECF6",
            "gridcolor": "white",
            "gridwidth": 2,
            "linecolor": "white",
            "showbackground": true,
            "ticks": "",
            "zerolinecolor": "white"
           },
           "yaxis": {
            "backgroundcolor": "#E5ECF6",
            "gridcolor": "white",
            "gridwidth": 2,
            "linecolor": "white",
            "showbackground": true,
            "ticks": "",
            "zerolinecolor": "white"
           },
           "zaxis": {
            "backgroundcolor": "#E5ECF6",
            "gridcolor": "white",
            "gridwidth": 2,
            "linecolor": "white",
            "showbackground": true,
            "ticks": "",
            "zerolinecolor": "white"
           }
          },
          "shapedefaults": {
           "line": {
            "color": "#2a3f5f"
           }
          },
          "ternary": {
           "aaxis": {
            "gridcolor": "white",
            "linecolor": "white",
            "ticks": ""
           },
           "baxis": {
            "gridcolor": "white",
            "linecolor": "white",
            "ticks": ""
           },
           "bgcolor": "#E5ECF6",
           "caxis": {
            "gridcolor": "white",
            "linecolor": "white",
            "ticks": ""
           }
          },
          "title": {
           "x": 0.05
          },
          "xaxis": {
           "automargin": true,
           "gridcolor": "white",
           "linecolor": "white",
           "ticks": "",
           "title": {
            "standoff": 15
           },
           "zerolinecolor": "white",
           "zerolinewidth": 2
          },
          "yaxis": {
           "automargin": true,
           "gridcolor": "white",
           "linecolor": "white",
           "ticks": "",
           "title": {
            "standoff": 15
           },
           "zerolinecolor": "white",
           "zerolinewidth": 2
          }
         }
        },
        "title": {
         "text": "Categorías Existentes y Sus Cantidades"
        },
        "xaxis": {
         "anchor": "y",
         "domain": [
          0,
          1
         ],
         "title": {
          "text": "Categoría"
         }
        },
        "yaxis": {
         "anchor": "x",
         "domain": [
          0,
          1
         ],
         "title": {
          "text": "Cantidad"
         }
        }
       }
      }
     },
     "metadata": {},
     "output_type": "display_data"
    }
   ],
   "source": [
    "# Contar la cantidad de veces que aparece cada categoría\n",
    "categoria_counts = df['Nombre de la Categoria'].value_counts().reset_index()\n",
    "categoria_counts.columns = ['Categoría', 'Cantidad']\n",
    "\n",
    "# Crear el gráfico de barras\n",
    "fig = px.bar(categoria_counts, x='Categoría', y='Cantidad', text='Cantidad')\n",
    "\n",
    "fig.update_layout(title='Categorías Existentes y Sus Cantidades',\n",
    "                  xaxis_title='Categoría', yaxis_title='Cantidad',\n",
    "                  showlegend=False)\n",
    "\n",
    "fig.show()\n"
   ]
  },
  {
   "cell_type": "markdown",
   "metadata": {},
   "source": [
    "Comparación del Precio del libro con la Calificación media"
   ]
  },
  {
   "cell_type": "code",
   "execution_count": 20,
   "metadata": {},
   "outputs": [
    {
     "data": {
      "image/png": "[encoded data removed]",
      "text/plain": [
       "<Figure size 1500x500 with 2 Axes>"
      ]
     },
     "metadata": {},
     "output_type": "display_data"
    }
   ],
   "source": [
    "\n",
    "# Dibujar histogramas de comparación del precio del libro con la calificación media\n",
    "col_num = ['Precio del libro', 'Calificación media']\n",
    "\n",
    "fig, ax = plt.subplots(nrows=1, ncols=2, figsize=(15,5))\n",
    "fig.subplots_adjust(hspace=0.5)\n",
    "\n",
    "for i, col in enumerate(col_num):\n",
    "    if col == 'Precio del libro':\n",
    "        nbins = 10\n",
    "    else:\n",
    "        nbins = 50\n",
    "    sns.histplot(x=col, data=df, ax=ax[i], bins=nbins, kde = True)\n",
    "    ax[i].set_title(col)"
   ]
  },
  {
   "cell_type": "markdown",
   "metadata": {},
   "source": [
    "## Observaciones:\n",
    "\n",
    "La mayor parte de los precios oscilan entre los 9.99€ y los 14.99€\n",
    "\n",
    "La calificación media es de 4.5"
   ]
  },
  {
   "cell_type": "markdown",
   "metadata": {},
   "source": [
    "# 4.Variables categóricas\n",
    "\n",
    "A pesar de tener diferentes tipos de letras en algunos casos, no hay ni categorias, ni años, ni vendedores, que esten con el mismo nombre escrito diferente.\n",
    "\n",
    "Se procede a mostrar gráficamente una pequeña muestra, para una primera impresión"
   ]
  },
  {
   "cell_type": "code",
   "execution_count": 21,
   "metadata": {},
   "outputs": [
    {
     "name": "stderr",
     "output_type": "stream",
     "text": [
      "C:\\Users\\silvi\\AppData\\Local\\Temp\\ipykernel_14460\\2210463912.py:15: FutureWarning:\n",
      "\n",
      "\n",
      "\n",
      "Passing `palette` without assigning `hue` is deprecated and will be removed in v0.14.0. Assign the `x` variable to `hue` and set `legend=False` for the same effect.\n",
      "\n",
      "\n",
      "C:\\Users\\silvi\\AppData\\Local\\Temp\\ipykernel_14460\\2210463912.py:15: UserWarning:\n",
      "\n",
      "\n",
      "The palette list has fewer values (7) than needed (8) and will cycle, which may produce an uninterpretable plot.\n",
      "\n",
      "C:\\Users\\silvi\\AppData\\Local\\Temp\\ipykernel_14460\\2210463912.py:17: UserWarning:\n",
      "\n",
      "set_ticklabels() should only be used with a fixed number of ticks, i.e. after set_ticks() or using a FixedLocator.\n",
      "\n",
      "C:\\Users\\silvi\\AppData\\Local\\Temp\\ipykernel_14460\\2210463912.py:15: FutureWarning:\n",
      "\n",
      "\n",
      "\n",
      "Passing `palette` without assigning `hue` is deprecated and will be removed in v0.14.0. Assign the `x` variable to `hue` and set `legend=False` for the same effect.\n",
      "\n",
      "\n",
      "C:\\Users\\silvi\\AppData\\Local\\Temp\\ipykernel_14460\\2210463912.py:15: UserWarning:\n",
      "\n",
      "The palette list has more values (7) than needed (2), which may not be intended.\n",
      "\n",
      "C:\\Users\\silvi\\AppData\\Local\\Temp\\ipykernel_14460\\2210463912.py:17: UserWarning:\n",
      "\n",
      "set_ticklabels() should only be used with a fixed number of ticks, i.e. after set_ticks() or using a FixedLocator.\n",
      "\n",
      "C:\\Users\\silvi\\AppData\\Local\\Temp\\ipykernel_14460\\2210463912.py:15: FutureWarning:\n",
      "\n",
      "\n",
      "\n",
      "Passing `palette` without assigning `hue` is deprecated and will be removed in v0.14.0. Assign the `x` variable to `hue` and set `legend=False` for the same effect.\n",
      "\n",
      "\n",
      "C:\\Users\\silvi\\AppData\\Local\\Temp\\ipykernel_14460\\2210463912.py:15: UserWarning:\n",
      "\n",
      "The palette list has more values (7) than needed (2), which may not be intended.\n",
      "\n",
      "C:\\Users\\silvi\\AppData\\Local\\Temp\\ipykernel_14460\\2210463912.py:17: UserWarning:\n",
      "\n",
      "set_ticklabels() should only be used with a fixed number of ticks, i.e. after set_ticks() or using a FixedLocator.\n",
      "\n",
      "C:\\Users\\silvi\\AppData\\Local\\Temp\\ipykernel_14460\\2210463912.py:15: FutureWarning:\n",
      "\n",
      "\n",
      "\n",
      "Passing `palette` without assigning `hue` is deprecated and will be removed in v0.14.0. Assign the `x` variable to `hue` and set `legend=False` for the same effect.\n",
      "\n",
      "\n",
      "C:\\Users\\silvi\\AppData\\Local\\Temp\\ipykernel_14460\\2210463912.py:15: UserWarning:\n",
      "\n",
      "The palette list has more values (7) than needed (1), which may not be intended.\n",
      "\n",
      "C:\\Users\\silvi\\AppData\\Local\\Temp\\ipykernel_14460\\2210463912.py:17: UserWarning:\n",
      "\n",
      "set_ticklabels() should only be used with a fixed number of ticks, i.e. after set_ticks() or using a FixedLocator.\n",
      "\n",
      "C:\\Users\\silvi\\AppData\\Local\\Temp\\ipykernel_14460\\2210463912.py:15: FutureWarning:\n",
      "\n",
      "\n",
      "\n",
      "Passing `palette` without assigning `hue` is deprecated and will be removed in v0.14.0. Assign the `x` variable to `hue` and set `legend=False` for the same effect.\n",
      "\n",
      "\n",
      "C:\\Users\\silvi\\AppData\\Local\\Temp\\ipykernel_14460\\2210463912.py:15: UserWarning:\n",
      "\n",
      "The palette list has more values (7) than needed (1), which may not be intended.\n",
      "\n",
      "C:\\Users\\silvi\\AppData\\Local\\Temp\\ipykernel_14460\\2210463912.py:17: UserWarning:\n",
      "\n",
      "set_ticklabels() should only be used with a fixed number of ticks, i.e. after set_ticks() or using a FixedLocator.\n",
      "\n",
      "C:\\Users\\silvi\\AppData\\Local\\Temp\\ipykernel_14460\\2210463912.py:15: FutureWarning:\n",
      "\n",
      "\n",
      "\n",
      "Passing `palette` without assigning `hue` is deprecated and will be removed in v0.14.0. Assign the `x` variable to `hue` and set `legend=False` for the same effect.\n",
      "\n",
      "\n",
      "C:\\Users\\silvi\\AppData\\Local\\Temp\\ipykernel_14460\\2210463912.py:15: UserWarning:\n",
      "\n",
      "\n",
      "The palette list has fewer values (7) than needed (10) and will cycle, which may produce an uninterpretable plot.\n",
      "\n",
      "C:\\Users\\silvi\\AppData\\Local\\Temp\\ipykernel_14460\\2210463912.py:17: UserWarning:\n",
      "\n",
      "set_ticklabels() should only be used with a fixed number of ticks, i.e. after set_ticks() or using a FixedLocator.\n",
      "\n",
      "C:\\Users\\silvi\\AppData\\Local\\Temp\\ipykernel_14460\\2210463912.py:15: FutureWarning:\n",
      "\n",
      "\n",
      "\n",
      "Passing `palette` without assigning `hue` is deprecated and will be removed in v0.14.0. Assign the `x` variable to `hue` and set `legend=False` for the same effect.\n",
      "\n",
      "\n",
      "C:\\Users\\silvi\\AppData\\Local\\Temp\\ipykernel_14460\\2210463912.py:15: UserWarning:\n",
      "\n",
      "\n",
      "The palette list has fewer values (7) than needed (15) and will cycle, which may produce an uninterpretable plot.\n",
      "\n",
      "C:\\Users\\silvi\\AppData\\Local\\Temp\\ipykernel_14460\\2210463912.py:17: UserWarning:\n",
      "\n",
      "set_ticklabels() should only be used with a fixed number of ticks, i.e. after set_ticks() or using a FixedLocator.\n",
      "\n"
     ]
    },
    {
     "data": {
      "image/png": "[encoded data removed]",
      "text/plain": [
       "<Figure size 1000x3000 with 7 Axes>"
      ]
     },
     "metadata": {},
     "output_type": "display_data"
    }
   ],
   "source": [
    "import seaborn as sns\n",
    "import matplotlib.pyplot as plt\n",
    "\n",
    "cols_cat = ['Vendedor(es) del libro', 'Disponible', 'Si es Betsellers', 'Elección destacada', 'Goodreads Choice', 'Fecha de publicación', 'Nombre de la Categoria']\n",
    "\n",
    "sampled_df = df.sample(n=20, random_state=42)\n",
    "\n",
    "# Define una paleta de colores personalizada\n",
    "colores_personalizados = [\"#FF5733\", \"#7D3C98\", \"#3498DB\", \"#E74C3C\", \"#2E4053\", \"#52BE80\", \"#FFC300\"]\n",
    "\n",
    "fig, ax = plt.subplots(nrows=len(cols_cat), ncols=1, figsize=(10, 30))\n",
    "fig.subplots_adjust(hspace=1)\n",
    "\n",
    "for i, col in enumerate(cols_cat):\n",
    "    sns.countplot(x=col, data=sampled_df, ax=ax[i], palette=colores_personalizados)\n",
    "    ax[i].set_title(col)\n",
    "    ax[i].set_xticklabels(ax[i].get_xticklabels(), rotation=65)\n",
    "\n",
    "plt.show()\n"
   ]
  },
  {
   "cell_type": "code",
   "execution_count": 22,
   "metadata": {},
   "outputs": [
    {
     "data": {
      "application/vnd.plotly.v1+json": {
       "config": {
        "plotlyServerURL": "https://plot.ly"
       },
       "data": [
        {
         "alignmentgroup": "True",
         "hovertemplate": "Autor(es) del libro=%{x}<br>count=%{y}<br>Titulo del libro=%{text}<extra></extra>",
         "legendgroup": "",
         "marker": {
          "color": "#636efa",
          "pattern": {
           "shape": ""
          }
         },
         "name": "",
         "offsetgroup": "",
         "orientation": "v",
         "showlegend": false,
         "text": [
          "The Collected Works of Milton H. Erickson, MD: Volume 1: The Nature of Therapeutic Hypnosis",
          "Nuance: Why Some Leaders Succeed and Others Fail",
          "Biblical Hebrew: An Introductory Grammar",
          "Swamp Spirits (Miss Fortune Mysteries Book 23)",
          "Dave Barry Is Not Taking This Sitting Down"
         ],
         "textposition": "auto",
         "type": "bar",
         "x": [
          "Milton H. Erickson",
          "Michael Fullan",
          "Page H. Kelley",
          "Jana DeLeon",
          "Dave Barry"
         ],
         "xaxis": "x",
         "y": [
          1,
          1,
          1,
          1,
          1
         ],
         "yaxis": "y"
        }
       ],
       "layout": {
        "barmode": "relative",
        "height": 400,
        "legend": {
         "tracegroupgap": 0
        },
        "template": {
         "data": {
          "bar": [
           {
            "error_x": {
             "color": "#2a3f5f"
            },
            "error_y": {
             "color": "#2a3f5f"
            },
            "marker": {
             "line": {
              "color": "#E5ECF6",
              "width": 0.5
             },
             "pattern": {
              "fillmode": "overlay",
              "size": 10,
              "solidity": 0.2
             }
            },
            "type": "bar"
           }
          ],
          "barpolar": [
           {
            "marker": {
             "line": {
              "color": "#E5ECF6",
              "width": 0.5
             },
             "pattern": {
              "fillmode": "overlay",
              "size": 10,
              "solidity": 0.2
             }
            },
            "type": "barpolar"
           }
          ],
          "carpet": [
           {
            "aaxis": {
             "endlinecolor": "#2a3f5f",
             "gridcolor": "white",
             "linecolor": "white",
             "minorgridcolor": "white",
             "startlinecolor": "#2a3f5f"
            },
            "baxis": {
             "endlinecolor": "#2a3f5f",
             "gridcolor": "white",
             "linecolor": "white",
             "minorgridcolor": "white",
             "startlinecolor": "#2a3f5f"
            },
            "type": "carpet"
           }
          ],
          "choropleth": [
           {
            "colorbar": {
             "outlinewidth": 0,
             "ticks": ""
            },
            "type": "choropleth"
           }
          ],
          "contour": [
           {
            "colorbar": {
             "outlinewidth": 0,
             "ticks": ""
            },
            "colorscale": [
             [
              0,
              "#0d0887"
             ],
             [
              0.1111111111111111,
              "#46039f"
             ],
             [
              0.2222222222222222,
              "#7201a8"
             ],
             [
              0.3333333333333333,
              "#9c179e"
             ],
             [
              0.4444444444444444,
              "#bd3786"
             ],
             [
              0.5555555555555556,
              "#d8576b"
             ],
             [
              0.6666666666666666,
              "#ed7953"
             ],
             [
              0.7777777777777778,
              "#fb9f3a"
             ],
             [
              0.8888888888888888,
              "#fdca26"
             ],
             [
              1,
              "#f0f921"
             ]
            ],
            "type": "contour"
           }
          ],
          "contourcarpet": [
           {
            "colorbar": {
             "outlinewidth": 0,
             "ticks": ""
            },
            "type": "contourcarpet"
           }
          ],
          "heatmap": [
           {
            "colorbar": {
             "outlinewidth": 0,
             "ticks": ""
            },
            "colorscale": [
             [
              0,
              "#0d0887"
             ],
             [
              0.1111111111111111,
              "#46039f"
             ],
             [
              0.2222222222222222,
              "#7201a8"
             ],
             [
              0.3333333333333333,
              "#9c179e"
             ],
             [
              0.4444444444444444,
              "#bd3786"
             ],
             [
              0.5555555555555556,
              "#d8576b"
             ],
             [
              0.6666666666666666,
              "#ed7953"
             ],
             [
              0.7777777777777778,
              "#fb9f3a"
             ],
             [
              0.8888888888888888,
              "#fdca26"
             ],
             [
              1,
              "#f0f921"
             ]
            ],
            "type": "heatmap"
           }
          ],
          "heatmapgl": [
           {
            "colorbar": {
             "outlinewidth": 0,
             "ticks": ""
            },
            "colorscale": [
             [
              0,
              "#0d0887"
             ],
             [
              0.1111111111111111,
              "#46039f"
             ],
             [
              0.2222222222222222,
              "#7201a8"
             ],
             [
              0.3333333333333333,
              "#9c179e"
             ],
             [
              0.4444444444444444,
              "#bd3786"
             ],
             [
              0.5555555555555556,
              "#d8576b"
             ],
             [
              0.6666666666666666,
              "#ed7953"
             ],
             [
              0.7777777777777778,
              "#fb9f3a"
             ],
             [
              0.8888888888888888,
              "#fdca26"
             ],
             [
              1,
              "#f0f921"
             ]
            ],
            "type": "heatmapgl"
           }
          ],
          "histogram": [
           {
            "marker": {
             "pattern": {
              "fillmode": "overlay",
              "size": 10,
              "solidity": 0.2
             }
            },
            "type": "histogram"
           }
          ],
          "histogram2d": [
           {
            "colorbar": {
             "outlinewidth": 0,
             "ticks": ""
            },
            "colorscale": [
             [
              0,
              "#0d0887"
             ],
             [
              0.1111111111111111,
              "#46039f"
             ],
             [
              0.2222222222222222,
              "#7201a8"
             ],
             [
              0.3333333333333333,
              "#9c179e"
             ],
             [
              0.4444444444444444,
              "#bd3786"
             ],
             [
              0.5555555555555556,
              "#d8576b"
             ],
             [
              0.6666666666666666,
              "#ed7953"
             ],
             [
              0.7777777777777778,
              "#fb9f3a"
             ],
             [
              0.8888888888888888,
              "#fdca26"
             ],
             [
              1,
              "#f0f921"
             ]
            ],
            "type": "histogram2d"
           }
          ],
          "histogram2dcontour": [
           {
            "colorbar": {
             "outlinewidth": 0,
             "ticks": ""
            },
            "colorscale": [
             [
              0,
              "#0d0887"
             ],
             [
              0.1111111111111111,
              "#46039f"
             ],
             [
              0.2222222222222222,
              "#7201a8"
             ],
             [
              0.3333333333333333,
              "#9c179e"
             ],
             [
              0.4444444444444444,
              "#bd3786"
             ],
             [
              0.5555555555555556,
              "#d8576b"
             ],
             [
              0.6666666666666666,
              "#ed7953"
             ],
             [
              0.7777777777777778,
              "#fb9f3a"
             ],
             [
              0.8888888888888888,
              "#fdca26"
             ],
             [
              1,
              "#f0f921"
             ]
            ],
            "type": "histogram2dcontour"
           }
          ],
          "mesh3d": [
           {
            "colorbar": {
             "outlinewidth": 0,
             "ticks": ""
            },
            "type": "mesh3d"
           }
          ],
          "parcoords": [
           {
            "line": {
             "colorbar": {
              "outlinewidth": 0,
              "ticks": ""
             }
            },
            "type": "parcoords"
           }
          ],
          "pie": [
           {
            "automargin": true,
            "type": "pie"
           }
          ],
          "scatter": [
           {
            "fillpattern": {
             "fillmode": "overlay",
             "size": 10,
             "solidity": 0.2
            },
            "type": "scatter"
           }
          ],
          "scatter3d": [
           {
            "line": {
             "colorbar": {
              "outlinewidth": 0,
              "ticks": ""
             }
            },
            "marker": {
             "colorbar": {
              "outlinewidth": 0,
              "ticks": ""
             }
            },
            "type": "scatter3d"
           }
          ],
          "scattercarpet": [
           {
            "marker": {
             "colorbar": {
              "outlinewidth": 0,
              "ticks": ""
             }
            },
            "type": "scattercarpet"
           }
          ],
          "scattergeo": [
           {
            "marker": {
             "colorbar": {
              "outlinewidth": 0,
              "ticks": ""
             }
            },
            "type": "scattergeo"
           }
          ],
          "scattergl": [
           {
            "marker": {
             "colorbar": {
              "outlinewidth": 0,
              "ticks": ""
             }
            },
            "type": "scattergl"
           }
          ],
          "scattermapbox": [
           {
            "marker": {
             "colorbar": {
              "outlinewidth": 0,
              "ticks": ""
             }
            },
            "type": "scattermapbox"
           }
          ],
          "scatterpolar": [
           {
            "marker": {
             "colorbar": {
              "outlinewidth": 0,
              "ticks": ""
             }
            },
            "type": "scatterpolar"
           }
          ],
          "scatterpolargl": [
           {
            "marker": {
             "colorbar": {
              "outlinewidth": 0,
              "ticks": ""
             }
            },
            "type": "scatterpolargl"
           }
          ],
          "scatterternary": [
           {
            "marker": {
             "colorbar": {
              "outlinewidth": 0,
              "ticks": ""
             }
            },
            "type": "scatterternary"
           }
          ],
          "surface": [
           {
            "colorbar": {
             "outlinewidth": 0,
             "ticks": ""
            },
            "colorscale": [
             [
              0,
              "#0d0887"
             ],
             [
              0.1111111111111111,
              "#46039f"
             ],
             [
              0.2222222222222222,
              "#7201a8"
             ],
             [
              0.3333333333333333,
              "#9c179e"
             ],
             [
              0.4444444444444444,
              "#bd3786"
             ],
             [
              0.5555555555555556,
              "#d8576b"
             ],
             [
              0.6666666666666666,
              "#ed7953"
             ],
             [
              0.7777777777777778,
              "#fb9f3a"
             ],
             [
              0.8888888888888888,
              "#fdca26"
             ],
             [
              1,
              "#f0f921"
             ]
            ],
            "type": "surface"
           }
          ],
          "table": [
           {
            "cells": {
             "fill": {
              "color": "#EBF0F8"
             },
             "line": {
              "color": "white"
             }
            },
            "header": {
             "fill": {
              "color": "#C8D4E3"
             },
             "line": {
              "color": "white"
             }
            },
            "type": "table"
           }
          ]
         },
         "layout": {
          "annotationdefaults": {
           "arrowcolor": "#2a3f5f",
           "arrowhead": 0,
           "arrowwidth": 1
          },
          "autotypenumbers": "strict",
          "coloraxis": {
           "colorbar": {
            "outlinewidth": 0,
            "ticks": ""
           }
          },
          "colorscale": {
           "diverging": [
            [
             0,
             "#8e0152"
            ],
            [
             0.1,
             "#c51b7d"
            ],
            [
             0.2,
             "#de77ae"
            ],
            [
             0.3,
             "#f1b6da"
            ],
            [
             0.4,
             "#fde0ef"
            ],
            [
             0.5,
             "#f7f7f7"
            ],
            [
             0.6,
             "#e6f5d0"
            ],
            [
             0.7,
             "#b8e186"
            ],
            [
             0.8,
             "#7fbc41"
            ],
            [
             0.9,
             "#4d9221"
            ],
            [
             1,
             "#276419"
            ]
           ],
           "sequential": [
            [
             0,
             "#0d0887"
            ],
            [
             0.1111111111111111,
             "#46039f"
            ],
            [
             0.2222222222222222,
             "#7201a8"
            ],
            [
             0.3333333333333333,
             "#9c179e"
            ],
            [
             0.4444444444444444,
             "#bd3786"
            ],
            [
             0.5555555555555556,
             "#d8576b"
            ],
            [
             0.6666666666666666,
             "#ed7953"
            ],
            [
             0.7777777777777778,
             "#fb9f3a"
            ],
            [
             0.8888888888888888,
             "#fdca26"
            ],
            [
             1,
             "#f0f921"
            ]
           ],
           "sequentialminus": [
            [
             0,
             "#0d0887"
            ],
            [
             0.1111111111111111,
             "#46039f"
            ],
            [
             0.2222222222222222,
             "#7201a8"
            ],
            [
             0.3333333333333333,
             "#9c179e"
            ],
            [
             0.4444444444444444,
             "#bd3786"
            ],
            [
             0.5555555555555556,
             "#d8576b"
            ],
            [
             0.6666666666666666,
             "#ed7953"
            ],
            [
             0.7777777777777778,
             "#fb9f3a"
            ],
            [
             0.8888888888888888,
             "#fdca26"
            ],
            [
             1,
             "#f0f921"
            ]
           ]
          },
          "colorway": [
           "#636efa",
           "#EF553B",
           "#00cc96",
           "#ab63fa",
           "#FFA15A",
           "#19d3f3",
           "#FF6692",
           "#B6E880",
           "#FF97FF",
           "#FECB52"
          ],
          "font": {
           "color": "#2a3f5f"
          },
          "geo": {
           "bgcolor": "white",
           "lakecolor": "white",
           "landcolor": "#E5ECF6",
           "showlakes": true,
           "showland": true,
           "subunitcolor": "white"
          },
          "hoverlabel": {
           "align": "left"
          },
          "hovermode": "closest",
          "mapbox": {
           "style": "light"
          },
          "paper_bgcolor": "white",
          "plot_bgcolor": "#E5ECF6",
          "polar": {
           "angularaxis": {
            "gridcolor": "white",
            "linecolor": "white",
            "ticks": ""
           },
           "bgcolor": "#E5ECF6",
           "radialaxis": {
            "gridcolor": "white",
            "linecolor": "white",
            "ticks": ""
           }
          },
          "scene": {
           "xaxis": {
            "backgroundcolor": "#E5ECF6",
            "gridcolor": "white",
            "gridwidth": 2,
            "linecolor": "white",
            "showbackground": true,
            "ticks": "",
            "zerolinecolor": "white"
           },
           "yaxis": {
            "backgroundcolor": "#E5ECF6",
            "gridcolor": "white",
            "gridwidth": 2,
            "linecolor": "white",
            "showbackground": true,
            "ticks": "",
            "zerolinecolor": "white"
           },
           "zaxis": {
            "backgroundcolor": "#E5ECF6",
            "gridcolor": "white",
            "gridwidth": 2,
            "linecolor": "white",
            "showbackground": true,
            "ticks": "",
            "zerolinecolor": "white"
           }
          },
          "shapedefaults": {
           "line": {
            "color": "#2a3f5f"
           }
          },
          "ternary": {
           "aaxis": {
            "gridcolor": "white",
            "linecolor": "white",
            "ticks": ""
           },
           "baxis": {
            "gridcolor": "white",
            "linecolor": "white",
            "ticks": ""
           },
           "bgcolor": "#E5ECF6",
           "caxis": {
            "gridcolor": "white",
            "linecolor": "white",
            "ticks": ""
           }
          },
          "title": {
           "x": 0.05
          },
          "xaxis": {
           "automargin": true,
           "gridcolor": "white",
           "linecolor": "white",
           "ticks": "",
           "title": {
            "standoff": 15
           },
           "zerolinecolor": "white",
           "zerolinewidth": 2
          },
          "yaxis": {
           "automargin": true,
           "gridcolor": "white",
           "linecolor": "white",
           "ticks": "",
           "title": {
            "standoff": 15
           },
           "zerolinecolor": "white",
           "zerolinewidth": 2
          }
         }
        },
        "title": {
         "text": "Autor(es) del libro"
        },
        "width": 600,
        "xaxis": {
         "anchor": "y",
         "domain": [
          0,
          1
         ],
         "tickangle": 75,
         "title": {
          "text": "Autor(es) del libro"
         }
        },
        "yaxis": {
         "anchor": "x",
         "domain": [
          0,
          1
         ],
         "title": {
          "text": "count"
         }
        }
       }
      }
     },
     "metadata": {},
     "output_type": "display_data"
    }
   ],
   "source": [
    "import plotly.express as px\n",
    "import seaborn as sns\n",
    "\n",
    "col_cat = ['Autor(es) del libro','Titulo del libro' ]\n",
    "# Seleccionar una muestra aleatoria de 5 registros\n",
    "sampled_df = df.sample(n=5, random_state=42)\n",
    "\n",
    "# Crear un gráfico interactivo utilizando Plotly\n",
    "fig = px.bar(sampled_df, x=col_cat[0], title=col_cat[0], text='Titulo del libro' )\n",
    "fig.update_xaxes(tickangle=75)\n",
    "fig.update_layout(height=400, width=600)\n",
    "\n",
    "# Mostrar el gráfico interactivo\n",
    "fig.show()\n"
   ]
  },
  {
   "cell_type": "markdown",
   "metadata": {},
   "source": [
    "## Primeras Observaciones de la muestra:\n",
    "\n",
    "En titulo y autor, la mayoría son únicos, aunque hay algun escritor que tiene varios libros, en esta pequeña muestra solo salen los correspondientes a escritores aleatorios que no se repiten.\n",
    "\n",
    "Como vendedores destaca Amazon por mucha diferencia.\n",
    "\n",
    "Disponible depende un poco de la muestra aleatoria.\n",
    "\n",
    "Si es Best Seller, también depende de la muestra, pero aquí no parece que sea una condición para su compra.\n",
    "\n",
    "Tanto Elección destacada como Goodreads Choice contienen altos valores de False, da a entender que tienen muy poca relación con la intención de los lectores, aunque como la muestra es pequeña puede no ser real.\n",
    "\n",
    "La fecha de publicación, no tiene influencia, en este muestreo salen diferentes años, en el total, la mayoría pertenecen al año 2019 en adelante, el máximo  a 2023.\n",
    "\n",
    "En cambio en la Categoría,  si se puede apreciar que existen diferencias sustanciales en cuanto a preferencias."
   ]
  },
  {
   "cell_type": "markdown",
   "metadata": {},
   "source": [
    "# 5.HIPOTESIS"
   ]
  },
  {
   "cell_type": "markdown",
   "metadata": {},
   "source": [
    "*\"Identificar los autores más populares según su número de libros publicados y calificaciones.\"*"
   ]
  },
  {
   "cell_type": "code",
   "execution_count": 23,
   "metadata": {},
   "outputs": [
    {
     "name": "stdout",
     "output_type": "stream",
     "text": [
      "Autores más populares por número de libros:\n",
      "Autor(es) del libro\n",
      "James Patterson          212\n",
      "DK Eyewitness            163\n",
      "DK                       155\n",
      "Captivating History      120\n",
      "Fodor's Travel Guides    115\n",
      "Erin Hunter              114\n",
      "J.K. Rowling             113\n",
      "Hourly History           103\n",
      "Nora Roberts              99\n",
      "Stephen King              99\n",
      "Name: Titulo del libro, dtype: int64\n",
      "Autores con la calificación media más alta:\n",
      "Autor(es) del libro\n",
      "（明） 蘭陵笑笑生              5.0\n",
      "Linda Katehi           5.0\n",
      "Caroline Nelson        5.0\n",
      "Linda Nielsen          5.0\n",
      "Linda Parker           5.0\n",
      "Linda Thomas-Mobley    5.0\n",
      "Linda Ugelow           5.0\n",
      "Linda Van Le           5.0\n",
      "Lindal Buchanan        5.0\n",
      "Lindsey Coleman        5.0\n",
      "Name: Calificación media, dtype: float64\n"
     ]
    }
   ],
   "source": [
    "autores_libros = df.groupby('Autor(es) del libro')['Titulo del libro'].count()\n",
    "autores_calificacion_media = df.groupby('Autor(es) del libro')['Calificación media'].mean()\n",
    "# Ordenar por número de libros en orden descendente\n",
    "autores_libros = autores_libros.sort_values(ascending=False)\n",
    "\n",
    "# Ordenar por calificación media en orden descendente \n",
    "autores_calificacion_media = autores_calificacion_media.sort_values(ascending=False)\n",
    "\n",
    "# Mostrar los autores con más libros\n",
    "print(\"Autores más populares por número de libros:\")\n",
    "print(autores_libros.head(10))\n",
    "\n",
    "# Mostrar los autores con la calificación media más alta \n",
    "print(\"Autores con la calificación media más alta:\")\n",
    "print(autores_calificacion_media.head(10))"
   ]
  },
  {
   "cell_type": "code",
   "execution_count": 24,
   "metadata": {},
   "outputs": [
    {
     "data": {
      "image/png": "[encoded data removed]",
      "text/plain": [
       "<Figure size 1200x600 with 1 Axes>"
      ]
     },
     "metadata": {},
     "output_type": "display_data"
    }
   ],
   "source": [
    "# Mostrar los autores con más libros\n",
    "top_autores_libros = autores_libros.head(10)\n",
    "\n",
    "plt.figure(figsize=(12, 6))\n",
    "plt.barh(top_autores_libros.index, top_autores_libros, color='green')\n",
    "plt.xlabel('Número de Libros')\n",
    "plt.ylabel('Autor(es) del libro')\n",
    "plt.title('Autores más populares por número de libros')\n",
    "plt.gca().invert_yaxis()  # Invertir el eje y para mostrar el autor con más libros en la parte superior\n",
    "plt.show()\n"
   ]
  },
  {
   "cell_type": "markdown",
   "metadata": {},
   "source": [
    "Los resultados muestran al autor *James Patterson*, que escribe novelas de suspense como el que más novelas tiene\n",
    "\n",
    "Los dos siguientes y el quinto son guias de viaje \n",
    "\n",
    "El cuarto puesto es de libros de historia\n",
    "\n",
    "*Erin Hunter* es escritora de novela fantastica y juvenil\n",
    "\n",
    "*J.K. Rowling* tiene la misma tematica que la anterior\n",
    "\n",
    "El registro 8 pertenece a Biografías y memorias de personajes relevantes\n",
    "\n",
    "*Nora Roberts* es una escritora de novela romántica\n",
    "\n",
    "*Stephen King* de misterio\n"
   ]
  },
  {
   "cell_type": "markdown",
   "metadata": {},
   "source": [
    "*\"¿La mayoría de los registros pertenecen a novelas, no ficción, ciencia ficción, romance u otros géneros?\"*"
   ]
  },
  {
   "cell_type": "code",
   "execution_count": 25,
   "metadata": {},
   "outputs": [
    {
     "name": "stdout",
     "output_type": "stream",
     "text": [
      "La categoría más frecuente es: Mystery, Thriller & Suspense\n",
      "Número de registros en la categoría más frecuente: 6272\n"
     ]
    }
   ],
   "source": [
    "# Contar la frecuencia de cada categoría\n",
    "frecuencia_categorias = df['Nombre de la Categoria'].value_counts()\n",
    "\n",
    "# Encontrar la categoría más frecuente\n",
    "mas_frecuente = frecuencia_categorias.idxmax()\n",
    "registros_mas_frecuente = frecuencia_categorias.max()\n",
    "\n",
    "print(\"La categoría más frecuente es:\", mas_frecuente)\n",
    "print(\"Número de registros en la categoría más frecuente:\", registros_mas_frecuente)\n"
   ]
  },
  {
   "cell_type": "code",
   "execution_count": 26,
   "metadata": {},
   "outputs": [
    {
     "data": {
      "application/vnd.plotly.v1+json": {
       "config": {
        "plotlyServerURL": "https://plot.ly"
       },
       "data": [
        {
         "alignmentgroup": "True",
         "hovertemplate": "Nombre de la Categoria=%{x}<br>Número de Registros=%{y}<extra></extra>",
         "legendgroup": "Mystery, Thriller & Suspense",
         "marker": {
          "color": "#636efa",
          "pattern": {
           "shape": ""
          }
         },
         "name": "Mystery, Thriller & Suspense",
         "offsetgroup": "Mystery, Thriller & Suspense",
         "orientation": "v",
         "showlegend": true,
         "textposition": "auto",
         "type": "bar",
         "x": [
          "Mystery, Thriller & Suspense"
         ],
         "xaxis": "x",
         "y": [
          6272
         ],
         "yaxis": "y"
        },
        {
         "alignmentgroup": "True",
         "hovertemplate": "Nombre de la Categoria=%{x}<br>Número de Registros=%{y}<extra></extra>",
         "legendgroup": "Engineering & Transportation",
         "marker": {
          "color": "#EF553B",
          "pattern": {
           "shape": ""
          }
         },
         "name": "Engineering & Transportation",
         "offsetgroup": "Engineering & Transportation",
         "orientation": "v",
         "showlegend": true,
         "textposition": "auto",
         "type": "bar",
         "x": [
          "Engineering & Transportation"
         ],
         "xaxis": "x",
         "y": [
          6162
         ],
         "yaxis": "y"
        },
        {
         "alignmentgroup": "True",
         "hovertemplate": "Nombre de la Categoria=%{x}<br>Número de Registros=%{y}<extra></extra>",
         "legendgroup": "Science & Math",
         "marker": {
          "color": "#00cc96",
          "pattern": {
           "shape": ""
          }
         },
         "name": "Science & Math",
         "offsetgroup": "Science & Math",
         "orientation": "v",
         "showlegend": true,
         "textposition": "auto",
         "type": "bar",
         "x": [
          "Science & Math"
         ],
         "xaxis": "x",
         "y": [
          5954
         ],
         "yaxis": "y"
        },
        {
         "alignmentgroup": "True",
         "hovertemplate": "Nombre de la Categoria=%{x}<br>Número de Registros=%{y}<extra></extra>",
         "legendgroup": "Parenting & Relationships",
         "marker": {
          "color": "#ab63fa",
          "pattern": {
           "shape": ""
          }
         },
         "name": "Parenting & Relationships",
         "offsetgroup": "Parenting & Relationships",
         "orientation": "v",
         "showlegend": true,
         "textposition": "auto",
         "type": "bar",
         "x": [
          "Parenting & Relationships"
         ],
         "xaxis": "x",
         "y": [
          5901
         ],
         "yaxis": "y"
        },
        {
         "alignmentgroup": "True",
         "hovertemplate": "Nombre de la Categoria=%{x}<br>Número de Registros=%{y}<extra></extra>",
         "legendgroup": "Children's eBooks",
         "marker": {
          "color": "#FFA15A",
          "pattern": {
           "shape": ""
          }
         },
         "name": "Children's eBooks",
         "offsetgroup": "Children's eBooks",
         "orientation": "v",
         "showlegend": true,
         "textposition": "auto",
         "type": "bar",
         "x": [
          "Children's eBooks"
         ],
         "xaxis": "x",
         "y": [
          5747
         ],
         "yaxis": "y"
        },
        {
         "alignmentgroup": "True",
         "hovertemplate": "Nombre de la Categoria=%{x}<br>Número de Registros=%{y}<extra></extra>",
         "legendgroup": "Teen & Young Adult",
         "marker": {
          "color": "#19d3f3",
          "pattern": {
           "shape": ""
          }
         },
         "name": "Teen & Young Adult",
         "offsetgroup": "Teen & Young Adult",
         "orientation": "v",
         "showlegend": true,
         "textposition": "auto",
         "type": "bar",
         "x": [
          "Teen & Young Adult"
         ],
         "xaxis": "x",
         "y": [
          5738
         ],
         "yaxis": "y"
        },
        {
         "alignmentgroup": "True",
         "hovertemplate": "Nombre de la Categoria=%{x}<br>Número de Registros=%{y}<extra></extra>",
         "legendgroup": "Foreign Language",
         "marker": {
          "color": "#FF6692",
          "pattern": {
           "shape": ""
          }
         },
         "name": "Foreign Language",
         "offsetgroup": "Foreign Language",
         "orientation": "v",
         "showlegend": true,
         "textposition": "auto",
         "type": "bar",
         "x": [
          "Foreign Language"
         ],
         "xaxis": "x",
         "y": [
          5724
         ],
         "yaxis": "y"
        },
        {
         "alignmentgroup": "True",
         "hovertemplate": "Nombre de la Categoria=%{x}<br>Número de Registros=%{y}<extra></extra>",
         "legendgroup": "Travel",
         "marker": {
          "color": "#B6E880",
          "pattern": {
           "shape": ""
          }
         },
         "name": "Travel",
         "offsetgroup": "Travel",
         "orientation": "v",
         "showlegend": true,
         "textposition": "auto",
         "type": "bar",
         "x": [
          "Travel"
         ],
         "xaxis": "x",
         "y": [
          5526
         ],
         "yaxis": "y"
        },
        {
         "alignmentgroup": "True",
         "hovertemplate": "Nombre de la Categoria=%{x}<br>Número de Registros=%{y}<extra></extra>",
         "legendgroup": "LGBTQ+ eBooks",
         "marker": {
          "color": "#FF97FF",
          "pattern": {
           "shape": ""
          }
         },
         "name": "LGBTQ+ eBooks",
         "offsetgroup": "LGBTQ+ eBooks",
         "orientation": "v",
         "showlegend": true,
         "textposition": "auto",
         "type": "bar",
         "x": [
          "LGBTQ+ eBooks"
         ],
         "xaxis": "x",
         "y": [
          5517
         ],
         "yaxis": "y"
        },
        {
         "alignmentgroup": "True",
         "hovertemplate": "Nombre de la Categoria=%{x}<br>Número de Registros=%{y}<extra></extra>",
         "legendgroup": "Computers & Technology",
         "marker": {
          "color": "#FECB52",
          "pattern": {
           "shape": ""
          }
         },
         "name": "Computers & Technology",
         "offsetgroup": "Computers & Technology",
         "orientation": "v",
         "showlegend": true,
         "textposition": "auto",
         "type": "bar",
         "x": [
          "Computers & Technology"
         ],
         "xaxis": "x",
         "y": [
          5504
         ],
         "yaxis": "y"
        },
        {
         "alignmentgroup": "True",
         "hovertemplate": "Nombre de la Categoria=%{x}<br>Número de Registros=%{y}<extra></extra>",
         "legendgroup": "Crafts, Hobbies & Home",
         "marker": {
          "color": "#636efa",
          "pattern": {
           "shape": ""
          }
         },
         "name": "Crafts, Hobbies & Home",
         "offsetgroup": "Crafts, Hobbies & Home",
         "orientation": "v",
         "showlegend": true,
         "textposition": "auto",
         "type": "bar",
         "x": [
          "Crafts, Hobbies & Home"
         ],
         "xaxis": "x",
         "y": [
          5502
         ],
         "yaxis": "y"
        },
        {
         "alignmentgroup": "True",
         "hovertemplate": "Nombre de la Categoria=%{x}<br>Número de Registros=%{y}<extra></extra>",
         "legendgroup": "Biographies & Memoirs",
         "marker": {
          "color": "#EF553B",
          "pattern": {
           "shape": ""
          }
         },
         "name": "Biographies & Memoirs",
         "offsetgroup": "Biographies & Memoirs",
         "orientation": "v",
         "showlegend": true,
         "textposition": "auto",
         "type": "bar",
         "x": [
          "Biographies & Memoirs"
         ],
         "xaxis": "x",
         "y": [
          5405
         ],
         "yaxis": "y"
        },
        {
         "alignmentgroup": "True",
         "hovertemplate": "Nombre de la Categoria=%{x}<br>Número de Registros=%{y}<extra></extra>",
         "legendgroup": "Cookbooks, Food & Wine",
         "marker": {
          "color": "#00cc96",
          "pattern": {
           "shape": ""
          }
         },
         "name": "Cookbooks, Food & Wine",
         "offsetgroup": "Cookbooks, Food & Wine",
         "orientation": "v",
         "showlegend": true,
         "textposition": "auto",
         "type": "bar",
         "x": [
          "Cookbooks, Food & Wine"
         ],
         "xaxis": "x",
         "y": [
          5333
         ],
         "yaxis": "y"
        },
        {
         "alignmentgroup": "True",
         "hovertemplate": "Nombre de la Categoria=%{x}<br>Número de Registros=%{y}<extra></extra>",
         "legendgroup": "Law",
         "marker": {
          "color": "#ab63fa",
          "pattern": {
           "shape": ""
          }
         },
         "name": "Law",
         "offsetgroup": "Law",
         "orientation": "v",
         "showlegend": true,
         "textposition": "auto",
         "type": "bar",
         "x": [
          "Law"
         ],
         "xaxis": "x",
         "y": [
          5020
         ],
         "yaxis": "y"
        },
        {
         "alignmentgroup": "True",
         "hovertemplate": "Nombre de la Categoria=%{x}<br>Número de Registros=%{y}<extra></extra>",
         "legendgroup": "Education & Teaching",
         "marker": {
          "color": "#FFA15A",
          "pattern": {
           "shape": ""
          }
         },
         "name": "Education & Teaching",
         "offsetgroup": "Education & Teaching",
         "orientation": "v",
         "showlegend": true,
         "textposition": "auto",
         "type": "bar",
         "x": [
          "Education & Teaching"
         ],
         "xaxis": "x",
         "y": [
          4986
         ],
         "yaxis": "y"
        },
        {
         "alignmentgroup": "True",
         "hovertemplate": "Nombre de la Categoria=%{x}<br>Número de Registros=%{y}<extra></extra>",
         "legendgroup": "Religion & Spirituality",
         "marker": {
          "color": "#19d3f3",
          "pattern": {
           "shape": ""
          }
         },
         "name": "Religion & Spirituality",
         "offsetgroup": "Religion & Spirituality",
         "orientation": "v",
         "showlegend": true,
         "textposition": "auto",
         "type": "bar",
         "x": [
          "Religion & Spirituality"
         ],
         "xaxis": "x",
         "y": [
          4970
         ],
         "yaxis": "y"
        },
        {
         "alignmentgroup": "True",
         "hovertemplate": "Nombre de la Categoria=%{x}<br>Número de Registros=%{y}<extra></extra>",
         "legendgroup": "Arts & Photo graphy",
         "marker": {
          "color": "#FF6692",
          "pattern": {
           "shape": ""
          }
         },
         "name": "Arts & Photo graphy",
         "offsetgroup": "Arts & Photo graphy",
         "orientation": "v",
         "showlegend": true,
         "textposition": "auto",
         "type": "bar",
         "x": [
          "Arts & Photo graphy"
         ],
         "xaxis": "x",
         "y": [
          4916
         ],
         "yaxis": "y"
        },
        {
         "alignmentgroup": "True",
         "hovertemplate": "Nombre de la Categoria=%{x}<br>Número de Registros=%{y}<extra></extra>",
         "legendgroup": "Politics & Social Sciences",
         "marker": {
          "color": "#B6E880",
          "pattern": {
           "shape": ""
          }
         },
         "name": "Politics & Social Sciences",
         "offsetgroup": "Politics & Social Sciences",
         "orientation": "v",
         "showlegend": true,
         "textposition": "auto",
         "type": "bar",
         "x": [
          "Politics & Social Sciences"
         ],
         "xaxis": "x",
         "y": [
          4207
         ],
         "yaxis": "y"
        },
        {
         "alignmentgroup": "True",
         "hovertemplate": "Nombre de la Categoria=%{x}<br>Número de Registros=%{y}<extra></extra>",
         "legendgroup": "Literature & Fiction",
         "marker": {
          "color": "#FF97FF",
          "pattern": {
           "shape": ""
          }
         },
         "name": "Literature & Fiction",
         "offsetgroup": "Literature & Fiction",
         "orientation": "v",
         "showlegend": true,
         "textposition": "auto",
         "type": "bar",
         "x": [
          "Literature & Fiction"
         ],
         "xaxis": "x",
         "y": [
          4152
         ],
         "yaxis": "y"
        },
        {
         "alignmentgroup": "True",
         "hovertemplate": "Nombre de la Categoria=%{x}<br>Número de Registros=%{y}<extra></extra>",
         "legendgroup": "Humor & Entertainment",
         "marker": {
          "color": "#FECB52",
          "pattern": {
           "shape": ""
          }
         },
         "name": "Humor & Entertainment",
         "offsetgroup": "Humor & Entertainment",
         "orientation": "v",
         "showlegend": true,
         "textposition": "auto",
         "type": "bar",
         "x": [
          "Humor & Entertainment"
         ],
         "xaxis": "x",
         "y": [
          4095
         ],
         "yaxis": "y"
        },
        {
         "alignmentgroup": "True",
         "hovertemplate": "Nombre de la Categoria=%{x}<br>Número de Registros=%{y}<extra></extra>",
         "legendgroup": "Science Fiction & Fantasy",
         "marker": {
          "color": "#636efa",
          "pattern": {
           "shape": ""
          }
         },
         "name": "Science Fiction & Fantasy",
         "offsetgroup": "Science Fiction & Fantasy",
         "orientation": "v",
         "showlegend": true,
         "textposition": "auto",
         "type": "bar",
         "x": [
          "Science Fiction & Fantasy"
         ],
         "xaxis": "x",
         "y": [
          3995
         ],
         "yaxis": "y"
        },
        {
         "alignmentgroup": "True",
         "hovertemplate": "Nombre de la Categoria=%{x}<br>Número de Registros=%{y}<extra></extra>",
         "legendgroup": "Self-Help",
         "marker": {
          "color": "#EF553B",
          "pattern": {
           "shape": ""
          }
         },
         "name": "Self-Help",
         "offsetgroup": "Self-Help",
         "orientation": "v",
         "showlegend": true,
         "textposition": "auto",
         "type": "bar",
         "x": [
          "Self-Help"
         ],
         "xaxis": "x",
         "y": [
          3493
         ],
         "yaxis": "y"
        },
        {
         "alignmentgroup": "True",
         "hovertemplate": "Nombre de la Categoria=%{x}<br>Número de Registros=%{y}<extra></extra>",
         "legendgroup": "Reference",
         "marker": {
          "color": "#00cc96",
          "pattern": {
           "shape": ""
          }
         },
         "name": "Reference",
         "offsetgroup": "Reference",
         "orientation": "v",
         "showlegend": true,
         "textposition": "auto",
         "type": "bar",
         "x": [
          "Reference"
         ],
         "xaxis": "x",
         "y": [
          3388
         ],
         "yaxis": "y"
        },
        {
         "alignmentgroup": "True",
         "hovertemplate": "Nombre de la Categoria=%{x}<br>Número de Registros=%{y}<extra></extra>",
         "legendgroup": "Sports & Outdoors",
         "marker": {
          "color": "#ab63fa",
          "pattern": {
           "shape": ""
          }
         },
         "name": "Sports & Outdoors",
         "offsetgroup": "Sports & Outdoors",
         "orientation": "v",
         "showlegend": true,
         "textposition": "auto",
         "type": "bar",
         "x": [
          "Sports & Outdoors"
         ],
         "xaxis": "x",
         "y": [
          3206
         ],
         "yaxis": "y"
        },
        {
         "alignmentgroup": "True",
         "hovertemplate": "Nombre de la Categoria=%{x}<br>Número de Registros=%{y}<extra></extra>",
         "legendgroup": "Medical",
         "marker": {
          "color": "#FFA15A",
          "pattern": {
           "shape": ""
          }
         },
         "name": "Medical",
         "offsetgroup": "Medical",
         "orientation": "v",
         "showlegend": true,
         "textposition": "auto",
         "type": "bar",
         "x": [
          "Medical"
         ],
         "xaxis": "x",
         "y": [
          2581
         ],
         "yaxis": "y"
        },
        {
         "alignmentgroup": "True",
         "hovertemplate": "Nombre de la Categoria=%{x}<br>Número de Registros=%{y}<extra></extra>",
         "legendgroup": "Business & Money",
         "marker": {
          "color": "#19d3f3",
          "pattern": {
           "shape": ""
          }
         },
         "name": "Business & Money",
         "offsetgroup": "Business & Money",
         "orientation": "v",
         "showlegend": true,
         "textposition": "auto",
         "type": "bar",
         "x": [
          "Business & Money"
         ],
         "xaxis": "x",
         "y": [
          2577
         ],
         "yaxis": "y"
        },
        {
         "alignmentgroup": "True",
         "hovertemplate": "Nombre de la Categoria=%{x}<br>Número de Registros=%{y}<extra></extra>",
         "legendgroup": "Romance",
         "marker": {
          "color": "#FF6692",
          "pattern": {
           "shape": ""
          }
         },
         "name": "Romance",
         "offsetgroup": "Romance",
         "orientation": "v",
         "showlegend": true,
         "textposition": "auto",
         "type": "bar",
         "x": [
          "Romance"
         ],
         "xaxis": "x",
         "y": [
          2214
         ],
         "yaxis": "y"
        },
        {
         "alignmentgroup": "True",
         "hovertemplate": "Nombre de la Categoria=%{x}<br>Número de Registros=%{y}<extra></extra>",
         "legendgroup": "History",
         "marker": {
          "color": "#B6E880",
          "pattern": {
           "shape": ""
          }
         },
         "name": "History",
         "offsetgroup": "History",
         "orientation": "v",
         "showlegend": true,
         "textposition": "auto",
         "type": "bar",
         "x": [
          "History"
         ],
         "xaxis": "x",
         "y": [
          2045
         ],
         "yaxis": "y"
        },
        {
         "alignmentgroup": "True",
         "hovertemplate": "Nombre de la Categoria=%{x}<br>Número de Registros=%{y}<extra></extra>",
         "legendgroup": "Health, Fitness & Dieting",
         "marker": {
          "color": "#FF97FF",
          "pattern": {
           "shape": ""
          }
         },
         "name": "Health, Fitness & Dieting",
         "offsetgroup": "Health, Fitness & Dieting",
         "orientation": "v",
         "showlegend": true,
         "textposition": "auto",
         "type": "bar",
         "x": [
          "Health, Fitness & Dieting"
         ],
         "xaxis": "x",
         "y": [
          1584
         ],
         "yaxis": "y"
        },
        {
         "alignmentgroup": "True",
         "hovertemplate": "Nombre de la Categoria=%{x}<br>Número de Registros=%{y}<extra></extra>",
         "legendgroup": "Nonfiction",
         "marker": {
          "color": "#FECB52",
          "pattern": {
           "shape": ""
          }
         },
         "name": "Nonfiction",
         "offsetgroup": "Nonfiction",
         "orientation": "v",
         "showlegend": true,
         "textposition": "auto",
         "type": "bar",
         "x": [
          "Nonfiction"
         ],
         "xaxis": "x",
         "y": [
          899
         ],
         "yaxis": "y"
        },
        {
         "alignmentgroup": "True",
         "hovertemplate": "Nombre de la Categoria=%{x}<br>Número de Registros=%{y}<extra></extra>",
         "legendgroup": "Comics",
         "marker": {
          "color": "#636efa",
          "pattern": {
           "shape": ""
          }
         },
         "name": "Comics",
         "offsetgroup": "Comics",
         "orientation": "v",
         "showlegend": true,
         "textposition": "auto",
         "type": "bar",
         "x": [
          "Comics"
         ],
         "xaxis": "x",
         "y": [
          478
         ],
         "yaxis": "y"
        }
       ],
       "layout": {
        "barmode": "relative",
        "legend": {
         "title": {
          "text": "Nombre de la Categoria"
         },
         "tracegroupgap": 0
        },
        "margin": {
         "t": 60
        },
        "template": {
         "data": {
          "bar": [
           {
            "error_x": {
             "color": "#2a3f5f"
            },
            "error_y": {
             "color": "#2a3f5f"
            },
            "marker": {
             "line": {
              "color": "#E5ECF6",
              "width": 0.5
             },
             "pattern": {
              "fillmode": "overlay",
              "size": 10,
              "solidity": 0.2
             }
            },
            "type": "bar"
           }
          ],
          "barpolar": [
           {
            "marker": {
             "line": {
              "color": "#E5ECF6",
              "width": 0.5
             },
             "pattern": {
              "fillmode": "overlay",
              "size": 10,
              "solidity": 0.2
             }
            },
            "type": "barpolar"
           }
          ],
          "carpet": [
           {
            "aaxis": {
             "endlinecolor": "#2a3f5f",
             "gridcolor": "white",
             "linecolor": "white",
             "minorgridcolor": "white",
             "startlinecolor": "#2a3f5f"
            },
            "baxis": {
             "endlinecolor": "#2a3f5f",
             "gridcolor": "white",
             "linecolor": "white",
             "minorgridcolor": "white",
             "startlinecolor": "#2a3f5f"
            },
            "type": "carpet"
           }
          ],
          "choropleth": [
           {
            "colorbar": {
             "outlinewidth": 0,
             "ticks": ""
            },
            "type": "choropleth"
           }
          ],
          "contour": [
           {
            "colorbar": {
             "outlinewidth": 0,
             "ticks": ""
            },
            "colorscale": [
             [
              0,
              "#0d0887"
             ],
             [
              0.1111111111111111,
              "#46039f"
             ],
             [
              0.2222222222222222,
              "#7201a8"
             ],
             [
              0.3333333333333333,
              "#9c179e"
             ],
             [
              0.4444444444444444,
              "#bd3786"
             ],
             [
              0.5555555555555556,
              "#d8576b"
             ],
             [
              0.6666666666666666,
              "#ed7953"
             ],
             [
              0.7777777777777778,
              "#fb9f3a"
             ],
             [
              0.8888888888888888,
              "#fdca26"
             ],
             [
              1,
              "#f0f921"
             ]
            ],
            "type": "contour"
           }
          ],
          "contourcarpet": [
           {
            "colorbar": {
             "outlinewidth": 0,
             "ticks": ""
            },
            "type": "contourcarpet"
           }
          ],
          "heatmap": [
           {
            "colorbar": {
             "outlinewidth": 0,
             "ticks": ""
            },
            "colorscale": [
             [
              0,
              "#0d0887"
             ],
             [
              0.1111111111111111,
              "#46039f"
             ],
             [
              0.2222222222222222,
              "#7201a8"
             ],
             [
              0.3333333333333333,
              "#9c179e"
             ],
             [
              0.4444444444444444,
              "#bd3786"
             ],
             [
              0.5555555555555556,
              "#d8576b"
             ],
             [
              0.6666666666666666,
              "#ed7953"
             ],
             [
              0.7777777777777778,
              "#fb9f3a"
             ],
             [
              0.8888888888888888,
              "#fdca26"
             ],
             [
              1,
              "#f0f921"
             ]
            ],
            "type": "heatmap"
           }
          ],
          "heatmapgl": [
           {
            "colorbar": {
             "outlinewidth": 0,
             "ticks": ""
            },
            "colorscale": [
             [
              0,
              "#0d0887"
             ],
             [
              0.1111111111111111,
              "#46039f"
             ],
             [
              0.2222222222222222,
              "#7201a8"
             ],
             [
              0.3333333333333333,
              "#9c179e"
             ],
             [
              0.4444444444444444,
              "#bd3786"
             ],
             [
              0.5555555555555556,
              "#d8576b"
             ],
             [
              0.6666666666666666,
              "#ed7953"
             ],
             [
              0.7777777777777778,
              "#fb9f3a"
             ],
             [
              0.8888888888888888,
              "#fdca26"
             ],
             [
              1,
              "#f0f921"
             ]
            ],
            "type": "heatmapgl"
           }
          ],
          "histogram": [
           {
            "marker": {
             "pattern": {
              "fillmode": "overlay",
              "size": 10,
              "solidity": 0.2
             }
            },
            "type": "histogram"
           }
          ],
          "histogram2d": [
           {
            "colorbar": {
             "outlinewidth": 0,
             "ticks": ""
            },
            "colorscale": [
             [
              0,
              "#0d0887"
             ],
             [
              0.1111111111111111,
              "#46039f"
             ],
             [
              0.2222222222222222,
              "#7201a8"
             ],
             [
              0.3333333333333333,
              "#9c179e"
             ],
             [
              0.4444444444444444,
              "#bd3786"
             ],
             [
              0.5555555555555556,
              "#d8576b"
             ],
             [
              0.6666666666666666,
              "#ed7953"
             ],
             [
              0.7777777777777778,
              "#fb9f3a"
             ],
             [
              0.8888888888888888,
              "#fdca26"
             ],
             [
              1,
              "#f0f921"
             ]
            ],
            "type": "histogram2d"
           }
          ],
          "histogram2dcontour": [
           {
            "colorbar": {
             "outlinewidth": 0,
             "ticks": ""
            },
            "colorscale": [
             [
              0,
              "#0d0887"
             ],
             [
              0.1111111111111111,
              "#46039f"
             ],
             [
              0.2222222222222222,
              "#7201a8"
             ],
             [
              0.3333333333333333,
              "#9c179e"
             ],
             [
              0.4444444444444444,
              "#bd3786"
             ],
             [
              0.5555555555555556,
              "#d8576b"
             ],
             [
              0.6666666666666666,
              "#ed7953"
             ],
             [
              0.7777777777777778,
              "#fb9f3a"
             ],
             [
              0.8888888888888888,
              "#fdca26"
             ],
             [
              1,
              "#f0f921"
             ]
            ],
            "type": "histogram2dcontour"
           }
          ],
          "mesh3d": [
           {
            "colorbar": {
             "outlinewidth": 0,
             "ticks": ""
            },
            "type": "mesh3d"
           }
          ],
          "parcoords": [
           {
            "line": {
             "colorbar": {
              "outlinewidth": 0,
              "ticks": ""
             }
            },
            "type": "parcoords"
           }
          ],
          "pie": [
           {
            "automargin": true,
            "type": "pie"
           }
          ],
          "scatter": [
           {
            "fillpattern": {
             "fillmode": "overlay",
             "size": 10,
             "solidity": 0.2
            },
            "type": "scatter"
           }
          ],
          "scatter3d": [
           {
            "line": {
             "colorbar": {
              "outlinewidth": 0,
              "ticks": ""
             }
            },
            "marker": {
             "colorbar": {
              "outlinewidth": 0,
              "ticks": ""
             }
            },
            "type": "scatter3d"
           }
          ],
          "scattercarpet": [
           {
            "marker": {
             "colorbar": {
              "outlinewidth": 0,
              "ticks": ""
             }
            },
            "type": "scattercarpet"
           }
          ],
          "scattergeo": [
           {
            "marker": {
             "colorbar": {
              "outlinewidth": 0,
              "ticks": ""
             }
            },
            "type": "scattergeo"
           }
          ],
          "scattergl": [
           {
            "marker": {
             "colorbar": {
              "outlinewidth": 0,
              "ticks": ""
             }
            },
            "type": "scattergl"
           }
          ],
          "scattermapbox": [
           {
            "marker": {
             "colorbar": {
              "outlinewidth": 0,
              "ticks": ""
             }
            },
            "type": "scattermapbox"
           }
          ],
          "scatterpolar": [
           {
            "marker": {
             "colorbar": {
              "outlinewidth": 0,
              "ticks": ""
             }
            },
            "type": "scatterpolar"
           }
          ],
          "scatterpolargl": [
           {
            "marker": {
             "colorbar": {
              "outlinewidth": 0,
              "ticks": ""
             }
            },
            "type": "scatterpolargl"
           }
          ],
          "scatterternary": [
           {
            "marker": {
             "colorbar": {
              "outlinewidth": 0,
              "ticks": ""
             }
            },
            "type": "scatterternary"
           }
          ],
          "surface": [
           {
            "colorbar": {
             "outlinewidth": 0,
             "ticks": ""
            },
            "colorscale": [
             [
              0,
              "#0d0887"
             ],
             [
              0.1111111111111111,
              "#46039f"
             ],
             [
              0.2222222222222222,
              "#7201a8"
             ],
             [
              0.3333333333333333,
              "#9c179e"
             ],
             [
              0.4444444444444444,
              "#bd3786"
             ],
             [
              0.5555555555555556,
              "#d8576b"
             ],
             [
              0.6666666666666666,
              "#ed7953"
             ],
             [
              0.7777777777777778,
              "#fb9f3a"
             ],
             [
              0.8888888888888888,
              "#fdca26"
             ],
             [
              1,
              "#f0f921"
             ]
            ],
            "type": "surface"
           }
          ],
          "table": [
           {
            "cells": {
             "fill": {
              "color": "#EBF0F8"
             },
             "line": {
              "color": "white"
             }
            },
            "header": {
             "fill": {
              "color": "#C8D4E3"
             },
             "line": {
              "color": "white"
             }
            },
            "type": "table"
           }
          ]
         },
         "layout": {
          "annotationdefaults": {
           "arrowcolor": "#2a3f5f",
           "arrowhead": 0,
           "arrowwidth": 1
          },
          "autotypenumbers": "strict",
          "coloraxis": {
           "colorbar": {
            "outlinewidth": 0,
            "ticks": ""
           }
          },
          "colorscale": {
           "diverging": [
            [
             0,
             "#8e0152"
            ],
            [
             0.1,
             "#c51b7d"
            ],
            [
             0.2,
             "#de77ae"
            ],
            [
             0.3,
             "#f1b6da"
            ],
            [
             0.4,
             "#fde0ef"
            ],
            [
             0.5,
             "#f7f7f7"
            ],
            [
             0.6,
             "#e6f5d0"
            ],
            [
             0.7,
             "#b8e186"
            ],
            [
             0.8,
             "#7fbc41"
            ],
            [
             0.9,
             "#4d9221"
            ],
            [
             1,
             "#276419"
            ]
           ],
           "sequential": [
            [
             0,
             "#0d0887"
            ],
            [
             0.1111111111111111,
             "#46039f"
            ],
            [
             0.2222222222222222,
             "#7201a8"
            ],
            [
             0.3333333333333333,
             "#9c179e"
            ],
            [
             0.4444444444444444,
             "#bd3786"
            ],
            [
             0.5555555555555556,
             "#d8576b"
            ],
            [
             0.6666666666666666,
             "#ed7953"
            ],
            [
             0.7777777777777778,
             "#fb9f3a"
            ],
            [
             0.8888888888888888,
             "#fdca26"
            ],
            [
             1,
             "#f0f921"
            ]
           ],
           "sequentialminus": [
            [
             0,
             "#0d0887"
            ],
            [
             0.1111111111111111,
             "#46039f"
            ],
            [
             0.2222222222222222,
             "#7201a8"
            ],
            [
             0.3333333333333333,
             "#9c179e"
            ],
            [
             0.4444444444444444,
             "#bd3786"
            ],
            [
             0.5555555555555556,
             "#d8576b"
            ],
            [
             0.6666666666666666,
             "#ed7953"
            ],
            [
             0.7777777777777778,
             "#fb9f3a"
            ],
            [
             0.8888888888888888,
             "#fdca26"
            ],
            [
             1,
             "#f0f921"
            ]
           ]
          },
          "colorway": [
           "#636efa",
           "#EF553B",
           "#00cc96",
           "#ab63fa",
           "#FFA15A",
           "#19d3f3",
           "#FF6692",
           "#B6E880",
           "#FF97FF",
           "#FECB52"
          ],
          "font": {
           "color": "#2a3f5f"
          },
          "geo": {
           "bgcolor": "white",
           "lakecolor": "white",
           "landcolor": "#E5ECF6",
           "showlakes": true,
           "showland": true,
           "subunitcolor": "white"
          },
          "hoverlabel": {
           "align": "left"
          },
          "hovermode": "closest",
          "mapbox": {
           "style": "light"
          },
          "paper_bgcolor": "white",
          "plot_bgcolor": "#E5ECF6",
          "polar": {
           "angularaxis": {
            "gridcolor": "white",
            "linecolor": "white",
            "ticks": ""
           },
           "bgcolor": "#E5ECF6",
           "radialaxis": {
            "gridcolor": "white",
            "linecolor": "white",
            "ticks": ""
           }
          },
          "scene": {
           "xaxis": {
            "backgroundcolor": "#E5ECF6",
            "gridcolor": "white",
            "gridwidth": 2,
            "linecolor": "white",
            "showbackground": true,
            "ticks": "",
            "zerolinecolor": "white"
           },
           "yaxis": {
            "backgroundcolor": "#E5ECF6",
            "gridcolor": "white",
            "gridwidth": 2,
            "linecolor": "white",
            "showbackground": true,
            "ticks": "",
            "zerolinecolor": "white"
           },
           "zaxis": {
            "backgroundcolor": "#E5ECF6",
            "gridcolor": "white",
            "gridwidth": 2,
            "linecolor": "white",
            "showbackground": true,
            "ticks": "",
            "zerolinecolor": "white"
           }
          },
          "shapedefaults": {
           "line": {
            "color": "#2a3f5f"
           }
          },
          "ternary": {
           "aaxis": {
            "gridcolor": "white",
            "linecolor": "white",
            "ticks": ""
           },
           "baxis": {
            "gridcolor": "white",
            "linecolor": "white",
            "ticks": ""
           },
           "bgcolor": "#E5ECF6",
           "caxis": {
            "gridcolor": "white",
            "linecolor": "white",
            "ticks": ""
           }
          },
          "title": {
           "x": 0.05
          },
          "xaxis": {
           "automargin": true,
           "gridcolor": "white",
           "linecolor": "white",
           "ticks": "",
           "title": {
            "standoff": 15
           },
           "zerolinecolor": "white",
           "zerolinewidth": 2
          },
          "yaxis": {
           "automargin": true,
           "gridcolor": "white",
           "linecolor": "white",
           "ticks": "",
           "title": {
            "standoff": 15
           },
           "zerolinecolor": "white",
           "zerolinewidth": 2
          }
         }
        },
        "title": {
         "text": "Frecuencia de Registros por Categoría"
        },
        "xaxis": {
         "anchor": "y",
         "categoryarray": [
          "Mystery, Thriller & Suspense",
          "Engineering & Transportation",
          "Science & Math",
          "Parenting & Relationships",
          "Children's eBooks",
          "Teen & Young Adult",
          "Foreign Language",
          "Travel",
          "LGBTQ+ eBooks",
          "Computers & Technology",
          "Crafts, Hobbies & Home",
          "Biographies & Memoirs",
          "Cookbooks, Food & Wine",
          "Law",
          "Education & Teaching",
          "Religion & Spirituality",
          "Arts & Photo graphy",
          "Politics & Social Sciences",
          "Literature & Fiction",
          "Humor & Entertainment",
          "Science Fiction & Fantasy",
          "Self-Help",
          "Reference",
          "Sports & Outdoors",
          "Medical",
          "Business & Money",
          "Romance",
          "History",
          "Health, Fitness & Dieting",
          "Nonfiction",
          "Comics"
         ],
         "categoryorder": "total ascending",
         "domain": [
          0,
          1
         ],
         "title": {
          "text": ""
         }
        },
        "yaxis": {
         "anchor": "x",
         "domain": [
          0,
          1
         ],
         "title": {
          "text": "Número de Registros"
         }
        }
       }
      }
     },
     "metadata": {},
     "output_type": "display_data"
    }
   ],
   "source": [
    "import plotly.express as px\n",
    "\n",
    "# Supongamos que 'frecuencia_categorias' es una serie de pandas con las frecuencias de cada categoría\n",
    "\n",
    "fig = px.bar(frecuencia_categorias, x=frecuencia_categorias.index, y=frecuencia_categorias.values,\n",
    "             labels={'x': 'Categoría', 'y': 'Número de Registros'}, color=frecuencia_categorias.index)\n",
    "\n",
    "fig.update_layout(title='Frecuencia de Registros por Categoría', xaxis_title='', yaxis_title='Número de Registros')\n",
    "fig.update_xaxes(categoryorder='total ascending')\n",
    "\n",
    "fig.show()\n"
   ]
  },
  {
   "cell_type": "markdown",
   "metadata": {},
   "source": [
    "En cuanto a las categorías, las de misterio son las más leídas, sorprende que, tanto Ingeniería y transporte, junto con Ciencia y matemáticas y relaciones personales que son lecturas de no ficción, sean las categorías más demandadas, seguidos de cerca por libros de niños y jovenes. Destacan los libros con temática LGBTQ+ y la poca demanda de Comics"
   ]
  },
  {
   "cell_type": "markdown",
   "metadata": {},
   "source": [
    "*\"Determinar la influencia de las etiquetas \"Elección destacada\" y \"Goodreads Choice\" en las ventas de libros.\"*"
   ]
  },
  {
   "cell_type": "code",
   "execution_count": 27,
   "metadata": {},
   "outputs": [],
   "source": [
    "# Agrupar por etiquetas y calcular las estadísticas de ventas\n",
    "eleccion_destacada = df.groupby('Elección destacada')['Número de reseñas'].mean()\n",
    "goodreads_choice = df.groupby('Goodreads Choice')['Número de reseñas'].mean()\n"
   ]
  },
  {
   "cell_type": "code",
   "execution_count": 28,
   "metadata": {},
   "outputs": [
    {
     "data": {
      "text/plain": [
       "Elección destacada\n",
       "False     741.594014\n",
       "True     4195.072407\n",
       "Name: Número de reseñas, dtype: float64"
      ]
     },
     "execution_count": 28,
     "metadata": {},
     "output_type": "execute_result"
    }
   ],
   "source": [
    "eleccion_destacada"
   ]
  },
  {
   "cell_type": "code",
   "execution_count": 29,
   "metadata": {},
   "outputs": [
    {
     "data": {
      "text/plain": [
       "Goodreads Choice\n",
       "False     816.143383\n",
       "True     7585.153352\n",
       "Name: Número de reseñas, dtype: float64"
      ]
     },
     "execution_count": 29,
     "metadata": {},
     "output_type": "execute_result"
    }
   ],
   "source": [
    "goodreads_choice"
   ]
  },
  {
   "cell_type": "code",
   "execution_count": 30,
   "metadata": {},
   "outputs": [],
   "source": [
    "# Comparar estadísticas de ventas para libros con y sin etiquetas\n",
    "mean_eleccion_destacada = eleccion_destacada.mean()\n",
    "mean_goodreads_choice = goodreads_choice.mean()\n"
   ]
  },
  {
   "cell_type": "code",
   "execution_count": 31,
   "metadata": {},
   "outputs": [
    {
     "name": "stderr",
     "output_type": "stream",
     "text": [
      "C:\\Users\\silvi\\AppData\\Local\\Temp\\ipykernel_14460\\1888087261.py:3: FutureWarning:\n",
      "\n",
      "Series.__getitem__ treating keys as positions is deprecated. In a future version, integer keys will always be treated as labels (consistent with DataFrame behavior). To access a value by position, use `ser.iloc[pos]`\n",
      "\n"
     ]
    },
    {
     "data": {
      "image/png": "[encoded data removed]",
      "text/plain": [
       "<Figure size 800x600 with 1 Axes>"
      ]
     },
     "metadata": {},
     "output_type": "display_data"
    }
   ],
   "source": [
    "plt.figure(figsize=(8, 6))\n",
    "etiquetas = ['Sin Elección Destacada', 'Con Elección Destacada', 'Sin Goodreads Choice', 'Con Goodreads Choice']\n",
    "ventas = [mean_eleccion_destacada, eleccion_destacada[1], mean_goodreads_choice, goodreads_choice[1]]\n",
    "\n",
    "# Define una lista de colores personalizados\n",
    "colores = ['royalblue', 'forestgreen', 'royalblue', 'forestgreen']\n",
    "\n",
    "plt.bar(etiquetas, ventas, color=colores)\n",
    "plt.xlabel('Etiqueta')\n",
    "plt.ylabel('Número Promedio de Reseñas')\n",
    "plt.title('Comparación de Ventas con y sin Etiquetas')\n",
    "plt.xticks(rotation=30)\n",
    "plt.show()\n"
   ]
  },
  {
   "cell_type": "markdown",
   "metadata": {},
   "source": [
    "Desde luego queda demostrada la influencia de ambas etiquetas, sobre todo la del premio Goodreads Choice marca las ventas.\n",
    "\n",
    "Goodreads es una comunidad virtual de catalogación de lecturas que, también funciona en España.\n",
    "\n",
    "En 2011, Goodreads estrenó una de sus funcionalidades más interesantes, un algoritmo para recomendar nuevos libros a los usuarios registrados que hubieran puntuado un mínimo de libros ya leídos. "
   ]
  },
  {
   "cell_type": "markdown",
   "metadata": {},
   "source": [
    "*\"Titulos más leídos: cuales son los más leídos ¿Hay algunos titulos que se destacan claramente en términos de popularidad?\"*"
   ]
  },
  {
   "cell_type": "code",
   "execution_count": 32,
   "metadata": {},
   "outputs": [],
   "source": [
    "titulos_libros = df.groupby('Titulo del libro')['Autor(es) del libro'].count()\n",
    "titulos_calificacion_media = df.groupby('Titulo del libro')['Calificación media'].mean()\n",
    "# Ordenar por número de libros en orden descendente\n",
    "titulos_libros = titulos_libros.sort_values(ascending=False)\n"
   ]
  },
  {
   "cell_type": "code",
   "execution_count": 33,
   "metadata": {},
   "outputs": [
    {
     "data": {
      "image/png": "[encoded data removed]",
      "text/plain": [
       "<Figure size 1200x600 with 1 Axes>"
      ]
     },
     "metadata": {},
     "output_type": "display_data"
    }
   ],
   "source": [
    "plt.figure(figsize=(12, 6))\n",
    "top_titulos_libros = titulos_libros.head(10)\n",
    "\n",
    "# Define una lista de colores personalizados\n",
    "colores = ['royalblue', 'forestgreen', 'tomato', 'purple', 'gold', 'teal', 'indigo', 'coral', 'darkorange', 'deepskyblue']\n",
    "\n",
    "top_titulos_libros.plot(kind='bar', color=colores)\n",
    "plt.xlabel('Titulo del libro')\n",
    "plt.ylabel('Número de Libros')\n",
    "plt.title('Títulos más leídos')\n",
    "plt.xticks(rotation=45)\n",
    "plt.show()\n"
   ]
  },
  {
   "cell_type": "markdown",
   "metadata": {},
   "source": [
    "Increiblemente los titulos más leidos son de Quimica Orgánica y Macroeconomía, tal vez esto sea debido, a que se trata del mes de octubre y puede que las Universidades tengan algo que ver, ya que varios de los titulos son de indole educativa."
   ]
  },
  {
   "cell_type": "markdown",
   "metadata": {},
   "source": [
    "*\"¿Los libros mejor calificados tienden a venderse más?\"*"
   ]
  },
  {
   "cell_type": "code",
   "execution_count": 34,
   "metadata": {},
   "outputs": [],
   "source": [
    "# Agrupar por calificación promedio y calcular estadísticas de ventas\n",
    "calificacion_ventas = df.groupby('Calificación media')['Número de reseñas'].mean()\n"
   ]
  },
  {
   "cell_type": "code",
   "execution_count": 35,
   "metadata": {},
   "outputs": [
    {
     "data": {
      "image/png": "[encoded data removed]",
      "text/plain": [
       "<Figure size 800x600 with 1 Axes>"
      ]
     },
     "metadata": {},
     "output_type": "display_data"
    }
   ],
   "source": [
    "\n",
    "# El umbral para la calificación media es 4.6\n",
    "umbral = 4.6\n",
    "\n",
    "# Creamos una nueva columna 'Color' que asigna un color a cada punto basado en la condición\n",
    "df['Color'] = np.where(df['Calificación media'] >= umbral, 'blue', 'red')\n",
    "\n",
    "plt.figure(figsize=(8, 6))\n",
    "plt.scatter(df['Calificación media'], df['Número de reseñas'], c=df['Color'], alpha=0.5)\n",
    "plt.xlabel('Calificación Media')\n",
    "plt.ylabel('Número Promedio de Reseñas')\n",
    "plt.title('Relación entre Calificación Media y Número Promedio de Reseñas')\n",
    "\n",
    "# Agregar una leyenda para los colores\n",
    "plt.legend(handles=[plt.Line2D([0], [0], marker='o', color='w', label='Calificación >= 4.6', markerfacecolor='blue', markersize=10),\n",
    "                    plt.Line2D([0], [0], marker='o', color='w', label='Calificación < 4.6', markerfacecolor='red', markersize=10)])\n",
    "\n",
    "plt.show()\n"
   ]
  },
  {
   "cell_type": "code",
   "execution_count": 36,
   "metadata": {},
   "outputs": [
    {
     "name": "stdout",
     "output_type": "stream",
     "text": [
      "La correlación entre Calificación Media y Número de Reseñas es: 0.03\n"
     ]
    }
   ],
   "source": [
    "correlacion = df['Calificación media'].corr(df['Número de reseñas'])\n",
    "\n",
    "print(f\"La correlación entre Calificación Media y Número de Reseñas es: {correlacion:.2f}\")"
   ]
  },
  {
   "cell_type": "markdown",
   "metadata": {},
   "source": [
    "Esto significa que no hay una asociación sólida entre la calificación media y el número de reseñas. La calificación media de un libro no parece tener una influencia significativa en la cantidad de reseñas que recibe, o viceversa. Por lo tanto, no se puede predecir con confianza el número de reseñas de un libro basándose únicamente en su calificación media, ya que la correlación es baja.\n",
    "\n",
    "Especulando, se puede comentar que, lo normal es poner una calificación al finalizar la lectura, o ni siquiera calificarlo por eso el número tan alto de 0.  Al poner una reseña, es necesario opinar e invertir más tiempo, además de que te haya gustado más o menos  el libro,  implica que tienes algo que decir.\n"
   ]
  },
  {
   "cell_type": "markdown",
   "metadata": {},
   "source": [
    "# Conclusiones de las hipótesis"
   ]
  },
  {
   "cell_type": "markdown",
   "metadata": {},
   "source": [
    "Las conclusiones a las que he llegado después de responder a las hipótesis me han demostrado, que las primeras impresiones no siempre son las más acertadas. \n",
    "\n",
    "Los datos han hablado y después del análisis en el que, los autores más populares me hablan de guías de viaje y novela juvenil.\n",
    "Los géneros quitando las de misterio, thiller y suspense, que son más bien un grupo, no sacan una gran ventaja, a las de no ficción, en las que predominan, las ciencias.\n",
    "\n",
    "Mi mayor sorpresa reside en los títulos más leídos, la mayoría de ellos manuales y textos educativos, aunque puede ser que tenga que ver con el mes y el comienzo de las clases, no aparece ni una sola novela.\n",
    "\n",
    "Muy clara se establece la influencia que ejercen las propuestas de Goodreads Choice a los lectores, prácticamente más de la mitad se decantan por esa selección.\n",
    "\n",
    "Que los libros estén mejor calificados no consigue que se vendan más, según estos datos, es más influyente la recomendación de un algoritmo que las calificaciones y reseñas de los lectores.\n"
   ]
  }
 ],
 "metadata": {
  "kernelspec": {
   "display_name": "Python 3",
   "language": "python",
   "name": "python3"
  },
  "language_info": {
   "codemirror_mode": {
    "name": "ipython",
    "version": 3
   },
   "file_extension": ".py",
   "mimetype": "text/x-python",
   "name": "python",
   "nbconvert_exporter": "python",
   "pygments_lexer": "ipython3",
   "version": "3.11.5"
  }
 },
 "nbformat": 4,
 "nbformat_minor": 2
}
